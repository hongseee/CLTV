{
 "cells": [
  {
   "cell_type": "markdown",
   "metadata": {},
   "source": [
    "- 총 2년 동안의 데이터를 활용해 모델 평가.\n",
    "1. 초반 1년의 데이터 학습 -> 이후 6개월 예측(1년 ~ 1년 6개월) -> 실제 데이터와 비교 평가\n",
    "2. 1년 6개월 데이터 학습 -> 이후 6개월 예측(1년 6개월 ~ 2년) -> 실제 데이터와 비교 평가\n",
    "\n",
    "- 선형회귀모델과 비교"
   ]
  },
  {
   "cell_type": "code",
   "execution_count": 208,
   "metadata": {
    "ExecuteTime": {
     "end_time": "2021-11-01T10:21:47.364875Z",
     "start_time": "2021-11-01T10:21:46.064309Z"
    }
   },
   "outputs": [],
   "source": [
    "from datetime import datetime, timedelta\n",
    "from dateutil.relativedelta import relativedelta\n",
    "\n",
    "\n",
    "import pandas as pd\n",
    "import matplotlib.pyplot as plt\n",
    "from lifetimes import BetaGeoFitter\n",
    "from lifetimes import GammaGammaFitter\n",
    "from lifetimes.plotting import plot_period_transactions"
   ]
  },
  {
   "cell_type": "code",
   "execution_count": 2,
   "metadata": {
    "ExecuteTime": {
     "end_time": "2021-11-01T10:21:51.490484Z",
     "start_time": "2021-11-01T10:21:51.485270Z"
    }
   },
   "outputs": [],
   "source": [
    "pd.set_option('display.max_columns', None)\n",
    "pd.set_option('display.max_rows', 10)\n",
    "pd.set_option('display.float_format', lambda x: '%.5f' % x)"
   ]
  },
  {
   "cell_type": "markdown",
   "metadata": {},
   "source": [
    "# Data Preperation"
   ]
  },
  {
   "cell_type": "code",
   "execution_count": 3,
   "metadata": {
    "ExecuteTime": {
     "end_time": "2021-11-01T10:21:56.305509Z",
     "start_time": "2021-11-01T10:21:56.299054Z"
    }
   },
   "outputs": [],
   "source": [
    "def outlier_thresholds(dataframe, variable):\n",
    "    quartile1 = dataframe[variable].quantile(0.01)\n",
    "    quartile3 = dataframe[variable].quantile(0.99)\n",
    "    interquantile_range = quartile3 - quartile1\n",
    "    up_limit = quartile3 + 1.5 * interquantile_range\n",
    "    low_limit = quartile1 - 1.5 * interquantile_range\n",
    "    return low_limit, up_limit"
   ]
  },
  {
   "cell_type": "code",
   "execution_count": 4,
   "metadata": {
    "ExecuteTime": {
     "end_time": "2021-11-01T10:22:01.991125Z",
     "start_time": "2021-11-01T10:22:01.984215Z"
    }
   },
   "outputs": [],
   "source": [
    "def replace_with_thresholds(dataframe, variable):\n",
    "    low_limit, up_limit = outlier_thresholds(dataframe, variable)\n",
    "    # dataframe.loc[(dataframe[variable] < low_limit), variable] = low_limit\n",
    "    dataframe.loc[(dataframe[variable] > up_limit), variable] = up_limit\n"
   ]
  },
  {
   "cell_type": "code",
   "execution_count": null,
   "metadata": {
    "ExecuteTime": {
     "end_time": "2021-11-01T10:25:20.688304Z",
     "start_time": "2021-11-01T10:23:07.488109Z"
    }
   },
   "outputs": [],
   "source": [
    "df =pd.read_excel(\"data/online_retail_II.xlsx\",\n",
    "                   sheet_name=\"Year 2010-2011\")"
   ]
  },
  {
   "cell_type": "code",
   "execution_count": 92,
   "metadata": {
    "ExecuteTime": {
     "end_time": "2021-11-01T10:25:20.688304Z",
     "start_time": "2021-11-01T10:23:07.488109Z"
    },
    "scrolled": true
   },
   "outputs": [
    {
     "data": {
      "text/html": [
       "<div>\n",
       "<style scoped>\n",
       "    .dataframe tbody tr th:only-of-type {\n",
       "        vertical-align: middle;\n",
       "    }\n",
       "\n",
       "    .dataframe tbody tr th {\n",
       "        vertical-align: top;\n",
       "    }\n",
       "\n",
       "    .dataframe thead th {\n",
       "        text-align: right;\n",
       "    }\n",
       "</style>\n",
       "<table border=\"1\" class=\"dataframe\">\n",
       "  <thead>\n",
       "    <tr style=\"text-align: right;\">\n",
       "      <th></th>\n",
       "      <th>Invoice</th>\n",
       "      <th>StockCode</th>\n",
       "      <th>Description</th>\n",
       "      <th>Quantity</th>\n",
       "      <th>InvoiceDate</th>\n",
       "      <th>Price</th>\n",
       "      <th>Customer ID</th>\n",
       "      <th>Country</th>\n",
       "    </tr>\n",
       "  </thead>\n",
       "  <tbody>\n",
       "    <tr>\n",
       "      <th>0</th>\n",
       "      <td>536365</td>\n",
       "      <td>85123A</td>\n",
       "      <td>WHITE HANGING HEART T-LIGHT HOLDER</td>\n",
       "      <td>6</td>\n",
       "      <td>2010-12-01 08:26:00</td>\n",
       "      <td>2.55000</td>\n",
       "      <td>17850.00000</td>\n",
       "      <td>United Kingdom</td>\n",
       "    </tr>\n",
       "    <tr>\n",
       "      <th>1</th>\n",
       "      <td>536365</td>\n",
       "      <td>71053</td>\n",
       "      <td>WHITE METAL LANTERN</td>\n",
       "      <td>6</td>\n",
       "      <td>2010-12-01 08:26:00</td>\n",
       "      <td>3.39000</td>\n",
       "      <td>17850.00000</td>\n",
       "      <td>United Kingdom</td>\n",
       "    </tr>\n",
       "    <tr>\n",
       "      <th>2</th>\n",
       "      <td>536365</td>\n",
       "      <td>84406B</td>\n",
       "      <td>CREAM CUPID HEARTS COAT HANGER</td>\n",
       "      <td>8</td>\n",
       "      <td>2010-12-01 08:26:00</td>\n",
       "      <td>2.75000</td>\n",
       "      <td>17850.00000</td>\n",
       "      <td>United Kingdom</td>\n",
       "    </tr>\n",
       "    <tr>\n",
       "      <th>3</th>\n",
       "      <td>536365</td>\n",
       "      <td>84029G</td>\n",
       "      <td>KNITTED UNION FLAG HOT WATER BOTTLE</td>\n",
       "      <td>6</td>\n",
       "      <td>2010-12-01 08:26:00</td>\n",
       "      <td>3.39000</td>\n",
       "      <td>17850.00000</td>\n",
       "      <td>United Kingdom</td>\n",
       "    </tr>\n",
       "    <tr>\n",
       "      <th>4</th>\n",
       "      <td>536365</td>\n",
       "      <td>84029E</td>\n",
       "      <td>RED WOOLLY HOTTIE WHITE HEART.</td>\n",
       "      <td>6</td>\n",
       "      <td>2010-12-01 08:26:00</td>\n",
       "      <td>3.39000</td>\n",
       "      <td>17850.00000</td>\n",
       "      <td>United Kingdom</td>\n",
       "    </tr>\n",
       "  </tbody>\n",
       "</table>\n",
       "</div>"
      ],
      "text/plain": [
       "  Invoice StockCode                          Description  Quantity  \\\n",
       "0  536365    85123A   WHITE HANGING HEART T-LIGHT HOLDER         6   \n",
       "1  536365     71053                  WHITE METAL LANTERN         6   \n",
       "2  536365    84406B       CREAM CUPID HEARTS COAT HANGER         8   \n",
       "3  536365    84029G  KNITTED UNION FLAG HOT WATER BOTTLE         6   \n",
       "4  536365    84029E       RED WOOLLY HOTTIE WHITE HEART.         6   \n",
       "\n",
       "          InvoiceDate   Price  Customer ID         Country  \n",
       "0 2010-12-01 08:26:00 2.55000  17850.00000  United Kingdom  \n",
       "1 2010-12-01 08:26:00 3.39000  17850.00000  United Kingdom  \n",
       "2 2010-12-01 08:26:00 2.75000  17850.00000  United Kingdom  \n",
       "3 2010-12-01 08:26:00 3.39000  17850.00000  United Kingdom  \n",
       "4 2010-12-01 08:26:00 3.39000  17850.00000  United Kingdom  "
      ]
     },
     "execution_count": 92,
     "metadata": {},
     "output_type": "execute_result"
    }
   ],
   "source": [
    "df = df_.copy()\n",
    "df.head()"
   ]
  },
  {
   "cell_type": "code",
   "execution_count": 93,
   "metadata": {
    "ExecuteTime": {
     "end_time": "2021-11-01T10:43:34.516891Z",
     "start_time": "2021-11-01T10:43:32.853813Z"
    }
   },
   "outputs": [
    {
     "data": {
      "text/plain": [
       "531286"
      ]
     },
     "execution_count": 93,
     "metadata": {},
     "output_type": "execute_result"
    }
   ],
   "source": [
    "df = df[~df[\"Invoice\"].str.contains(\"C\", na=False)]   # 주문 취소 데이터 제외\n",
    "df = df[df[\"Quantity\"] > 0]                           # 수량 0개 or (-)인 데이터 제외 \n",
    "len(df)"
   ]
  },
  {
   "cell_type": "code",
   "execution_count": 94,
   "metadata": {
    "ExecuteTime": {
     "end_time": "2021-11-01T10:44:02.453038Z",
     "start_time": "2021-11-01T10:44:02.374415Z"
    }
   },
   "outputs": [],
   "source": [
    "replace_with_thresholds(df, \"Quantity\")     # 수량 이상치 제거 \n",
    "replace_with_thresholds(df, \"Price\")        # 가격 이상치 제거"
   ]
  },
  {
   "cell_type": "code",
   "execution_count": 95,
   "metadata": {
    "ExecuteTime": {
     "end_time": "2021-11-01T10:44:03.252865Z",
     "start_time": "2021-11-01T10:44:03.118583Z"
    }
   },
   "outputs": [
    {
     "data": {
      "text/html": [
       "<div>\n",
       "<style scoped>\n",
       "    .dataframe tbody tr th:only-of-type {\n",
       "        vertical-align: middle;\n",
       "    }\n",
       "\n",
       "    .dataframe tbody tr th {\n",
       "        vertical-align: top;\n",
       "    }\n",
       "\n",
       "    .dataframe thead th {\n",
       "        text-align: right;\n",
       "    }\n",
       "</style>\n",
       "<table border=\"1\" class=\"dataframe\">\n",
       "  <thead>\n",
       "    <tr style=\"text-align: right;\">\n",
       "      <th></th>\n",
       "      <th>count</th>\n",
       "      <th>mean</th>\n",
       "      <th>std</th>\n",
       "      <th>min</th>\n",
       "      <th>5%</th>\n",
       "      <th>25%</th>\n",
       "      <th>50%</th>\n",
       "      <th>75%</th>\n",
       "      <th>95%</th>\n",
       "      <th>99%</th>\n",
       "      <th>100%</th>\n",
       "      <th>max</th>\n",
       "    </tr>\n",
       "  </thead>\n",
       "  <tbody>\n",
       "    <tr>\n",
       "      <th>Quantity</th>\n",
       "      <td>531286.00000</td>\n",
       "      <td>9.59067</td>\n",
       "      <td>21.67303</td>\n",
       "      <td>1.00000</td>\n",
       "      <td>1.00000</td>\n",
       "      <td>1.00000</td>\n",
       "      <td>3.00000</td>\n",
       "      <td>10.00000</td>\n",
       "      <td>30.00000</td>\n",
       "      <td>100.00000</td>\n",
       "      <td>248.50000</td>\n",
       "      <td>248.50000</td>\n",
       "    </tr>\n",
       "    <tr>\n",
       "      <th>Price</th>\n",
       "      <td>531286.00000</td>\n",
       "      <td>3.29045</td>\n",
       "      <td>21.82581</td>\n",
       "      <td>-11062.06000</td>\n",
       "      <td>0.42000</td>\n",
       "      <td>1.25000</td>\n",
       "      <td>2.08000</td>\n",
       "      <td>4.13000</td>\n",
       "      <td>9.95000</td>\n",
       "      <td>16.98000</td>\n",
       "      <td>42.13500</td>\n",
       "      <td>42.13500</td>\n",
       "    </tr>\n",
       "    <tr>\n",
       "      <th>Customer ID</th>\n",
       "      <td>397925.00000</td>\n",
       "      <td>15294.30860</td>\n",
       "      <td>1713.17274</td>\n",
       "      <td>12346.00000</td>\n",
       "      <td>12627.00000</td>\n",
       "      <td>13969.00000</td>\n",
       "      <td>15159.00000</td>\n",
       "      <td>16795.00000</td>\n",
       "      <td>17912.00000</td>\n",
       "      <td>18211.00000</td>\n",
       "      <td>18287.00000</td>\n",
       "      <td>18287.00000</td>\n",
       "    </tr>\n",
       "  </tbody>\n",
       "</table>\n",
       "</div>"
      ],
      "text/plain": [
       "                   count        mean        std          min          5%  \\\n",
       "Quantity    531286.00000     9.59067   21.67303      1.00000     1.00000   \n",
       "Price       531286.00000     3.29045   21.82581 -11062.06000     0.42000   \n",
       "Customer ID 397925.00000 15294.30860 1713.17274  12346.00000 12627.00000   \n",
       "\n",
       "                    25%         50%         75%         95%         99%  \\\n",
       "Quantity        1.00000     3.00000    10.00000    30.00000   100.00000   \n",
       "Price           1.25000     2.08000     4.13000     9.95000    16.98000   \n",
       "Customer ID 13969.00000 15159.00000 16795.00000 17912.00000 18211.00000   \n",
       "\n",
       "                   100%         max  \n",
       "Quantity      248.50000   248.50000  \n",
       "Price          42.13500    42.13500  \n",
       "Customer ID 18287.00000 18287.00000  "
      ]
     },
     "execution_count": 95,
     "metadata": {},
     "output_type": "execute_result"
    }
   ],
   "source": [
    "df.describe([0.05, 0.25, 0.50, 0.75, 0.95, 0.99, 1]).T"
   ]
  },
  {
   "cell_type": "code",
   "execution_count": 96,
   "metadata": {
    "ExecuteTime": {
     "end_time": "2021-11-01T10:44:21.200534Z",
     "start_time": "2021-11-01T10:44:21.191675Z"
    }
   },
   "outputs": [],
   "source": [
    "df[\"TotalPrice\"] = df[\"Price\"] * df[\"Quantity\"]  # 총 가격 컬럼 생성 "
   ]
  },
  {
   "cell_type": "code",
   "execution_count": 97,
   "metadata": {
    "ExecuteTime": {
     "end_time": "2021-11-02T08:01:39.101833Z",
     "start_time": "2021-11-02T08:01:39.075173Z"
    }
   },
   "outputs": [
    {
     "data": {
      "text/plain": [
       "(Timestamp('2010-12-01 08:26:00'), Timestamp('2011-12-09 12:50:00'))"
      ]
     },
     "execution_count": 97,
     "metadata": {},
     "output_type": "execute_result"
    }
   ],
   "source": [
    "df[\"InvoiceDate\"].min(), df[\"InvoiceDate\"].max()"
   ]
  },
  {
   "cell_type": "code",
   "execution_count": 98,
   "metadata": {
    "ExecuteTime": {
     "end_time": "2021-11-01T10:45:28.200555Z",
     "start_time": "2021-11-01T10:45:28.064029Z"
    }
   },
   "outputs": [
    {
     "data": {
      "text/plain": [
       "array(['United Kingdom'], dtype=object)"
      ]
     },
     "execution_count": 98,
     "metadata": {},
     "output_type": "execute_result"
    }
   ],
   "source": [
    "df = df[df[\"Country\"] == \"United Kingdom\"]    # 영국 고객 데이터만 분석\n",
    "df['Country'].unique()"
   ]
  },
  {
   "cell_type": "code",
   "execution_count": null,
   "metadata": {},
   "outputs": [],
   "source": []
  },
  {
   "cell_type": "code",
   "execution_count": 108,
   "metadata": {},
   "outputs": [],
   "source": [
    "df_6month = df[df['InvoiceDate'] < dt.datetime(2011, 6, 1)]"
   ]
  },
  {
   "cell_type": "code",
   "execution_count": 109,
   "metadata": {},
   "outputs": [
    {
     "data": {
      "text/html": [
       "<div>\n",
       "<style scoped>\n",
       "    .dataframe tbody tr th:only-of-type {\n",
       "        vertical-align: middle;\n",
       "    }\n",
       "\n",
       "    .dataframe tbody tr th {\n",
       "        vertical-align: top;\n",
       "    }\n",
       "\n",
       "    .dataframe thead th {\n",
       "        text-align: right;\n",
       "    }\n",
       "</style>\n",
       "<table border=\"1\" class=\"dataframe\">\n",
       "  <thead>\n",
       "    <tr style=\"text-align: right;\">\n",
       "      <th></th>\n",
       "      <th>Invoice</th>\n",
       "      <th>StockCode</th>\n",
       "      <th>Description</th>\n",
       "      <th>Quantity</th>\n",
       "      <th>InvoiceDate</th>\n",
       "      <th>Price</th>\n",
       "      <th>Customer ID</th>\n",
       "      <th>Country</th>\n",
       "      <th>TotalPrice</th>\n",
       "    </tr>\n",
       "  </thead>\n",
       "  <tbody>\n",
       "    <tr>\n",
       "      <th>0</th>\n",
       "      <td>536365</td>\n",
       "      <td>85123A</td>\n",
       "      <td>WHITE HANGING HEART T-LIGHT HOLDER</td>\n",
       "      <td>6.00000</td>\n",
       "      <td>2010-12-01 08:26:00</td>\n",
       "      <td>2.55000</td>\n",
       "      <td>17850.00000</td>\n",
       "      <td>United Kingdom</td>\n",
       "      <td>15.30000</td>\n",
       "    </tr>\n",
       "    <tr>\n",
       "      <th>1</th>\n",
       "      <td>536365</td>\n",
       "      <td>71053</td>\n",
       "      <td>WHITE METAL LANTERN</td>\n",
       "      <td>6.00000</td>\n",
       "      <td>2010-12-01 08:26:00</td>\n",
       "      <td>3.39000</td>\n",
       "      <td>17850.00000</td>\n",
       "      <td>United Kingdom</td>\n",
       "      <td>20.34000</td>\n",
       "    </tr>\n",
       "    <tr>\n",
       "      <th>2</th>\n",
       "      <td>536365</td>\n",
       "      <td>84406B</td>\n",
       "      <td>CREAM CUPID HEARTS COAT HANGER</td>\n",
       "      <td>8.00000</td>\n",
       "      <td>2010-12-01 08:26:00</td>\n",
       "      <td>2.75000</td>\n",
       "      <td>17850.00000</td>\n",
       "      <td>United Kingdom</td>\n",
       "      <td>22.00000</td>\n",
       "    </tr>\n",
       "    <tr>\n",
       "      <th>3</th>\n",
       "      <td>536365</td>\n",
       "      <td>84029G</td>\n",
       "      <td>KNITTED UNION FLAG HOT WATER BOTTLE</td>\n",
       "      <td>6.00000</td>\n",
       "      <td>2010-12-01 08:26:00</td>\n",
       "      <td>3.39000</td>\n",
       "      <td>17850.00000</td>\n",
       "      <td>United Kingdom</td>\n",
       "      <td>20.34000</td>\n",
       "    </tr>\n",
       "    <tr>\n",
       "      <th>4</th>\n",
       "      <td>536365</td>\n",
       "      <td>84029E</td>\n",
       "      <td>RED WOOLLY HOTTIE WHITE HEART.</td>\n",
       "      <td>6.00000</td>\n",
       "      <td>2010-12-01 08:26:00</td>\n",
       "      <td>3.39000</td>\n",
       "      <td>17850.00000</td>\n",
       "      <td>United Kingdom</td>\n",
       "      <td>20.34000</td>\n",
       "    </tr>\n",
       "    <tr>\n",
       "      <th>...</th>\n",
       "      <td>...</td>\n",
       "      <td>...</td>\n",
       "      <td>...</td>\n",
       "      <td>...</td>\n",
       "      <td>...</td>\n",
       "      <td>...</td>\n",
       "      <td>...</td>\n",
       "      <td>...</td>\n",
       "      <td>...</td>\n",
       "    </tr>\n",
       "    <tr>\n",
       "      <th>209024</th>\n",
       "      <td>555150</td>\n",
       "      <td>22895</td>\n",
       "      <td>SET OF 2 TEA TOWELS APPLE AND PEARS</td>\n",
       "      <td>3.00000</td>\n",
       "      <td>2011-05-31 15:53:00</td>\n",
       "      <td>3.25000</td>\n",
       "      <td>NaN</td>\n",
       "      <td>United Kingdom</td>\n",
       "      <td>9.75000</td>\n",
       "    </tr>\n",
       "    <tr>\n",
       "      <th>209025</th>\n",
       "      <td>555150</td>\n",
       "      <td>22983</td>\n",
       "      <td>CARD BILLBOARD FONT</td>\n",
       "      <td>3.00000</td>\n",
       "      <td>2011-05-31 15:53:00</td>\n",
       "      <td>0.42000</td>\n",
       "      <td>NaN</td>\n",
       "      <td>United Kingdom</td>\n",
       "      <td>1.26000</td>\n",
       "    </tr>\n",
       "    <tr>\n",
       "      <th>209026</th>\n",
       "      <td>555150</td>\n",
       "      <td>23169</td>\n",
       "      <td>CLASSIC GLASS COOKIE JAR</td>\n",
       "      <td>3.00000</td>\n",
       "      <td>2011-05-31 15:53:00</td>\n",
       "      <td>4.15000</td>\n",
       "      <td>NaN</td>\n",
       "      <td>United Kingdom</td>\n",
       "      <td>12.45000</td>\n",
       "    </tr>\n",
       "    <tr>\n",
       "      <th>209027</th>\n",
       "      <td>555150</td>\n",
       "      <td>23298</td>\n",
       "      <td>SPOTTY BUNTING</td>\n",
       "      <td>5.00000</td>\n",
       "      <td>2011-05-31 15:53:00</td>\n",
       "      <td>4.95000</td>\n",
       "      <td>NaN</td>\n",
       "      <td>United Kingdom</td>\n",
       "      <td>24.75000</td>\n",
       "    </tr>\n",
       "    <tr>\n",
       "      <th>209028</th>\n",
       "      <td>555150</td>\n",
       "      <td>23118</td>\n",
       "      <td>PARISIENNE JEWELLERY DRAWER</td>\n",
       "      <td>2.00000</td>\n",
       "      <td>2011-05-31 15:53:00</td>\n",
       "      <td>7.50000</td>\n",
       "      <td>NaN</td>\n",
       "      <td>United Kingdom</td>\n",
       "      <td>15.00000</td>\n",
       "    </tr>\n",
       "  </tbody>\n",
       "</table>\n",
       "<p>188626 rows × 9 columns</p>\n",
       "</div>"
      ],
      "text/plain": [
       "       Invoice StockCode                          Description  Quantity  \\\n",
       "0       536365    85123A   WHITE HANGING HEART T-LIGHT HOLDER   6.00000   \n",
       "1       536365     71053                  WHITE METAL LANTERN   6.00000   \n",
       "2       536365    84406B       CREAM CUPID HEARTS COAT HANGER   8.00000   \n",
       "3       536365    84029G  KNITTED UNION FLAG HOT WATER BOTTLE   6.00000   \n",
       "4       536365    84029E       RED WOOLLY HOTTIE WHITE HEART.   6.00000   \n",
       "...        ...       ...                                  ...       ...   \n",
       "209024  555150     22895  SET OF 2 TEA TOWELS APPLE AND PEARS   3.00000   \n",
       "209025  555150     22983                  CARD BILLBOARD FONT   3.00000   \n",
       "209026  555150     23169             CLASSIC GLASS COOKIE JAR   3.00000   \n",
       "209027  555150     23298                       SPOTTY BUNTING   5.00000   \n",
       "209028  555150     23118         PARISIENNE JEWELLERY DRAWER    2.00000   \n",
       "\n",
       "               InvoiceDate   Price  Customer ID         Country  TotalPrice  \n",
       "0      2010-12-01 08:26:00 2.55000  17850.00000  United Kingdom    15.30000  \n",
       "1      2010-12-01 08:26:00 3.39000  17850.00000  United Kingdom    20.34000  \n",
       "2      2010-12-01 08:26:00 2.75000  17850.00000  United Kingdom    22.00000  \n",
       "3      2010-12-01 08:26:00 3.39000  17850.00000  United Kingdom    20.34000  \n",
       "4      2010-12-01 08:26:00 3.39000  17850.00000  United Kingdom    20.34000  \n",
       "...                    ...     ...          ...             ...         ...  \n",
       "209024 2011-05-31 15:53:00 3.25000          NaN  United Kingdom     9.75000  \n",
       "209025 2011-05-31 15:53:00 0.42000          NaN  United Kingdom     1.26000  \n",
       "209026 2011-05-31 15:53:00 4.15000          NaN  United Kingdom    12.45000  \n",
       "209027 2011-05-31 15:53:00 4.95000          NaN  United Kingdom    24.75000  \n",
       "209028 2011-05-31 15:53:00 7.50000          NaN  United Kingdom    15.00000  \n",
       "\n",
       "[188626 rows x 9 columns]"
      ]
     },
     "execution_count": 109,
     "metadata": {},
     "output_type": "execute_result"
    }
   ],
   "source": [
    "df_6month"
   ]
  },
  {
   "cell_type": "code",
   "execution_count": 110,
   "metadata": {
    "ExecuteTime": {
     "end_time": "2021-11-01T10:44:37.379557Z",
     "start_time": "2021-11-01T10:44:37.374862Z"
    }
   },
   "outputs": [],
   "source": [
    "# today_date = dt.datetime(2011, 12, 11)\n",
    "today_date = dt.datetime(2011, 6, 3)"
   ]
  },
  {
   "cell_type": "markdown",
   "metadata": {},
   "source": [
    "# RFM Table"
   ]
  },
  {
   "cell_type": "code",
   "execution_count": 167,
   "metadata": {
    "ExecuteTime": {
     "end_time": "2021-11-01T10:46:41.037703Z",
     "start_time": "2021-11-01T10:46:36.725071Z"
    }
   },
   "outputs": [
    {
     "data": {
      "text/html": [
       "<div>\n",
       "<style scoped>\n",
       "    .dataframe tbody tr th:only-of-type {\n",
       "        vertical-align: middle;\n",
       "    }\n",
       "\n",
       "    .dataframe tbody tr th {\n",
       "        vertical-align: top;\n",
       "    }\n",
       "\n",
       "    .dataframe thead tr th {\n",
       "        text-align: left;\n",
       "    }\n",
       "\n",
       "    .dataframe thead tr:last-of-type th {\n",
       "        text-align: right;\n",
       "    }\n",
       "</style>\n",
       "<table border=\"1\" class=\"dataframe\">\n",
       "  <thead>\n",
       "    <tr>\n",
       "      <th></th>\n",
       "      <th colspan=\"2\" halign=\"left\">InvoiceDate</th>\n",
       "      <th>Invoice</th>\n",
       "      <th>TotalPrice</th>\n",
       "    </tr>\n",
       "    <tr>\n",
       "      <th></th>\n",
       "      <th>&lt;lambda_0&gt;</th>\n",
       "      <th>&lt;lambda_1&gt;</th>\n",
       "      <th>&lt;lambda&gt;</th>\n",
       "      <th>&lt;lambda&gt;</th>\n",
       "    </tr>\n",
       "    <tr>\n",
       "      <th>Customer ID</th>\n",
       "      <th></th>\n",
       "      <th></th>\n",
       "      <th></th>\n",
       "      <th></th>\n",
       "    </tr>\n",
       "  </thead>\n",
       "  <tbody>\n",
       "    <tr>\n",
       "      <th>12346.00000</th>\n",
       "      <td>0</td>\n",
       "      <td>135</td>\n",
       "      <td>1</td>\n",
       "      <td>258.44000</td>\n",
       "    </tr>\n",
       "    <tr>\n",
       "      <th>12747.00000</th>\n",
       "      <td>170</td>\n",
       "      <td>179</td>\n",
       "      <td>6</td>\n",
       "      <td>2091.40000</td>\n",
       "    </tr>\n",
       "  </tbody>\n",
       "</table>\n",
       "</div>"
      ],
      "text/plain": [
       "            InvoiceDate             Invoice TotalPrice\n",
       "             <lambda_0> <lambda_1> <lambda>   <lambda>\n",
       "Customer ID                                           \n",
       "12346.00000           0        135        1  258.44000\n",
       "12747.00000         170        179        6 2091.40000"
      ]
     },
     "execution_count": 167,
     "metadata": {},
     "output_type": "execute_result"
    }
   ],
   "source": [
    "rfm = df_6month.groupby('Customer ID').agg({'InvoiceDate': [lambda date: (date.max()-date.min()).days,\n",
    "                                                     lambda date: (today_date-date.min()).days],\n",
    "                                     'Invoice': lambda num: num.nunique(),\n",
    "                                     'TotalPrice': lambda price: price.sum()})\n",
    "rfm.head(2)"
   ]
  },
  {
   "cell_type": "code",
   "execution_count": 168,
   "metadata": {
    "ExecuteTime": {
     "end_time": "2021-11-01T10:46:47.787195Z",
     "start_time": "2021-11-01T10:46:47.782426Z"
    }
   },
   "outputs": [],
   "source": [
    "rfm.columns = rfm.columns.droplevel(0)"
   ]
  },
  {
   "cell_type": "code",
   "execution_count": 169,
   "metadata": {
    "ExecuteTime": {
     "end_time": "2021-11-01T10:46:52.925175Z",
     "start_time": "2021-11-01T10:46:52.907955Z"
    }
   },
   "outputs": [
    {
     "data": {
      "text/html": [
       "<div>\n",
       "<style scoped>\n",
       "    .dataframe tbody tr th:only-of-type {\n",
       "        vertical-align: middle;\n",
       "    }\n",
       "\n",
       "    .dataframe tbody tr th {\n",
       "        vertical-align: top;\n",
       "    }\n",
       "\n",
       "    .dataframe thead th {\n",
       "        text-align: right;\n",
       "    }\n",
       "</style>\n",
       "<table border=\"1\" class=\"dataframe\">\n",
       "  <thead>\n",
       "    <tr style=\"text-align: right;\">\n",
       "      <th></th>\n",
       "      <th>&lt;lambda_0&gt;</th>\n",
       "      <th>&lt;lambda_1&gt;</th>\n",
       "      <th>&lt;lambda&gt;</th>\n",
       "      <th>&lt;lambda&gt;</th>\n",
       "    </tr>\n",
       "    <tr>\n",
       "      <th>Customer ID</th>\n",
       "      <th></th>\n",
       "      <th></th>\n",
       "      <th></th>\n",
       "      <th></th>\n",
       "    </tr>\n",
       "  </thead>\n",
       "  <tbody>\n",
       "    <tr>\n",
       "      <th>12346.00000</th>\n",
       "      <td>0</td>\n",
       "      <td>135</td>\n",
       "      <td>1</td>\n",
       "      <td>258.44000</td>\n",
       "    </tr>\n",
       "    <tr>\n",
       "      <th>12747.00000</th>\n",
       "      <td>170</td>\n",
       "      <td>179</td>\n",
       "      <td>6</td>\n",
       "      <td>2091.40000</td>\n",
       "    </tr>\n",
       "  </tbody>\n",
       "</table>\n",
       "</div>"
      ],
      "text/plain": [
       "             <lambda_0>  <lambda_1>  <lambda>   <lambda>\n",
       "Customer ID                                             \n",
       "12346.00000           0         135         1  258.44000\n",
       "12747.00000         170         179         6 2091.40000"
      ]
     },
     "execution_count": 169,
     "metadata": {},
     "output_type": "execute_result"
    }
   ],
   "source": [
    "rfm.head(2)"
   ]
  },
  {
   "cell_type": "code",
   "execution_count": 170,
   "metadata": {
    "ExecuteTime": {
     "end_time": "2021-11-01T10:47:00.661950Z",
     "start_time": "2021-11-01T10:47:00.656788Z"
    }
   },
   "outputs": [],
   "source": [
    "rfm.columns = ['recency_cltv_p', 'tenure', 'frequency', 'monetary']"
   ]
  },
  {
   "cell_type": "code",
   "execution_count": 171,
   "metadata": {
    "ExecuteTime": {
     "end_time": "2021-11-01T10:47:50.089550Z",
     "start_time": "2021-11-01T10:47:50.081993Z"
    }
   },
   "outputs": [],
   "source": [
    "#  통화 평균 계산 \n",
    "rfm[\"monetary\"] = rfm[\"monetary\"] / rfm[\"frequency\"]\n",
    "rfm.rename(columns={\"monetary\": \"monetary_avg\"}, inplace=True)"
   ]
  },
  {
   "cell_type": "code",
   "execution_count": 172,
   "metadata": {
    "ExecuteTime": {
     "end_time": "2021-11-01T10:48:56.458703Z",
     "start_time": "2021-11-01T10:48:56.447080Z"
    }
   },
   "outputs": [],
   "source": [
    "# 최근성 및 근속 기간 변수를 주간으로 변환\n",
    "rfm[\"recency_weekly_p\"] = rfm[\"recency_cltv_p\"] / 7\n",
    "rfm[\"tenure_weekly_p\"] = rfm[\"tenure\"] / 7"
   ]
  },
  {
   "cell_type": "code",
   "execution_count": 173,
   "metadata": {
    "ExecuteTime": {
     "end_time": "2021-11-01T10:49:22.333459Z",
     "start_time": "2021-11-01T10:49:22.317897Z"
    }
   },
   "outputs": [],
   "source": [
    "rfm = rfm[rfm[\"monetary_avg\"] > 0]\n",
    "rfm = rfm[rfm[\"frequency\"] > 1]\n",
    "rfm[\"frequency\"] = rfm[\"frequency\"].astype(int)"
   ]
  },
  {
   "cell_type": "code",
   "execution_count": 174,
   "metadata": {},
   "outputs": [
    {
     "data": {
      "text/html": [
       "<div>\n",
       "<style scoped>\n",
       "    .dataframe tbody tr th:only-of-type {\n",
       "        vertical-align: middle;\n",
       "    }\n",
       "\n",
       "    .dataframe tbody tr th {\n",
       "        vertical-align: top;\n",
       "    }\n",
       "\n",
       "    .dataframe thead th {\n",
       "        text-align: right;\n",
       "    }\n",
       "</style>\n",
       "<table border=\"1\" class=\"dataframe\">\n",
       "  <thead>\n",
       "    <tr style=\"text-align: right;\">\n",
       "      <th></th>\n",
       "      <th>recency_cltv_p</th>\n",
       "      <th>tenure</th>\n",
       "      <th>frequency</th>\n",
       "      <th>monetary_avg</th>\n",
       "      <th>recency_weekly_p</th>\n",
       "      <th>tenure_weekly_p</th>\n",
       "    </tr>\n",
       "    <tr>\n",
       "      <th>Customer ID</th>\n",
       "      <th></th>\n",
       "      <th></th>\n",
       "      <th></th>\n",
       "      <th></th>\n",
       "      <th></th>\n",
       "      <th></th>\n",
       "    </tr>\n",
       "  </thead>\n",
       "  <tbody>\n",
       "    <tr>\n",
       "      <th>12747.00000</th>\n",
       "      <td>170</td>\n",
       "      <td>179</td>\n",
       "      <td>6</td>\n",
       "      <td>348.56667</td>\n",
       "      <td>24.28571</td>\n",
       "      <td>25.57143</td>\n",
       "    </tr>\n",
       "    <tr>\n",
       "      <th>12748.00000</th>\n",
       "      <td>181</td>\n",
       "      <td>183</td>\n",
       "      <td>86</td>\n",
       "      <td>106.89436</td>\n",
       "      <td>25.85714</td>\n",
       "      <td>26.14286</td>\n",
       "    </tr>\n",
       "    <tr>\n",
       "      <th>12823.00000</th>\n",
       "      <td>41</td>\n",
       "      <td>106</td>\n",
       "      <td>3</td>\n",
       "      <td>331.50000</td>\n",
       "      <td>5.85714</td>\n",
       "      <td>15.14286</td>\n",
       "    </tr>\n",
       "    <tr>\n",
       "      <th>12826.00000</th>\n",
       "      <td>48</td>\n",
       "      <td>175</td>\n",
       "      <td>3</td>\n",
       "      <td>232.36667</td>\n",
       "      <td>6.85714</td>\n",
       "      <td>25.00000</td>\n",
       "    </tr>\n",
       "    <tr>\n",
       "      <th>12829.00000</th>\n",
       "      <td>23</td>\n",
       "      <td>170</td>\n",
       "      <td>2</td>\n",
       "      <td>146.50000</td>\n",
       "      <td>3.28571</td>\n",
       "      <td>24.28571</td>\n",
       "    </tr>\n",
       "    <tr>\n",
       "      <th>...</th>\n",
       "      <td>...</td>\n",
       "      <td>...</td>\n",
       "      <td>...</td>\n",
       "      <td>...</td>\n",
       "      <td>...</td>\n",
       "      <td>...</td>\n",
       "    </tr>\n",
       "    <tr>\n",
       "      <th>18245.00000</th>\n",
       "      <td>143</td>\n",
       "      <td>165</td>\n",
       "      <td>4</td>\n",
       "      <td>326.57250</td>\n",
       "      <td>20.42857</td>\n",
       "      <td>23.57143</td>\n",
       "    </tr>\n",
       "    <tr>\n",
       "      <th>18257.00000</th>\n",
       "      <td>89</td>\n",
       "      <td>106</td>\n",
       "      <td>3</td>\n",
       "      <td>240.40000</td>\n",
       "      <td>12.71429</td>\n",
       "      <td>15.14286</td>\n",
       "    </tr>\n",
       "    <tr>\n",
       "      <th>18260.00000</th>\n",
       "      <td>152</td>\n",
       "      <td>168</td>\n",
       "      <td>5</td>\n",
       "      <td>443.21400</td>\n",
       "      <td>21.71429</td>\n",
       "      <td>24.00000</td>\n",
       "    </tr>\n",
       "    <tr>\n",
       "      <th>18272.00000</th>\n",
       "      <td>21</td>\n",
       "      <td>56</td>\n",
       "      <td>2</td>\n",
       "      <td>490.27000</td>\n",
       "      <td>3.00000</td>\n",
       "      <td>8.00000</td>\n",
       "    </tr>\n",
       "    <tr>\n",
       "      <th>18283.00000</th>\n",
       "      <td>136</td>\n",
       "      <td>147</td>\n",
       "      <td>5</td>\n",
       "      <td>107.01000</td>\n",
       "      <td>19.42857</td>\n",
       "      <td>21.00000</td>\n",
       "    </tr>\n",
       "  </tbody>\n",
       "</table>\n",
       "<p>1252 rows × 6 columns</p>\n",
       "</div>"
      ],
      "text/plain": [
       "             recency_cltv_p  tenure  frequency  monetary_avg  \\\n",
       "Customer ID                                                    \n",
       "12747.00000             170     179          6     348.56667   \n",
       "12748.00000             181     183         86     106.89436   \n",
       "12823.00000              41     106          3     331.50000   \n",
       "12826.00000              48     175          3     232.36667   \n",
       "12829.00000              23     170          2     146.50000   \n",
       "...                     ...     ...        ...           ...   \n",
       "18245.00000             143     165          4     326.57250   \n",
       "18257.00000              89     106          3     240.40000   \n",
       "18260.00000             152     168          5     443.21400   \n",
       "18272.00000              21      56          2     490.27000   \n",
       "18283.00000             136     147          5     107.01000   \n",
       "\n",
       "             recency_weekly_p  tenure_weekly_p  \n",
       "Customer ID                                     \n",
       "12747.00000          24.28571         25.57143  \n",
       "12748.00000          25.85714         26.14286  \n",
       "12823.00000           5.85714         15.14286  \n",
       "12826.00000           6.85714         25.00000  \n",
       "12829.00000           3.28571         24.28571  \n",
       "...                       ...              ...  \n",
       "18245.00000          20.42857         23.57143  \n",
       "18257.00000          12.71429         15.14286  \n",
       "18260.00000          21.71429         24.00000  \n",
       "18272.00000           3.00000          8.00000  \n",
       "18283.00000          19.42857         21.00000  \n",
       "\n",
       "[1252 rows x 6 columns]"
      ]
     },
     "execution_count": 174,
     "metadata": {},
     "output_type": "execute_result"
    }
   ],
   "source": [
    "rfm"
   ]
  },
  {
   "cell_type": "markdown",
   "metadata": {},
   "source": [
    "# BG/NBD 모델 구축"
   ]
  },
  {
   "cell_type": "code",
   "execution_count": 175,
   "metadata": {
    "ExecuteTime": {
     "end_time": "2021-11-01T11:02:17.771161Z",
     "start_time": "2021-11-01T11:02:17.499238Z"
    }
   },
   "outputs": [
    {
     "data": {
      "text/plain": [
       "<lifetimes.BetaGeoFitter: fitted with 1252 subjects, a: 0.25, alpha: 10.84, b: 3.06, r: 2.97>"
      ]
     },
     "execution_count": 175,
     "metadata": {},
     "output_type": "execute_result"
    }
   ],
   "source": [
    "bgf = BetaGeoFitter(penalizer_coef=0.001)\n",
    "bgf.fit(rfm['frequency'],\n",
    "        rfm['recency_weekly_p'],\n",
    "        rfm['tenure_weekly_p'])"
   ]
  },
  {
   "cell_type": "code",
   "execution_count": 176,
   "metadata": {
    "ExecuteTime": {
     "end_time": "2021-11-01T11:03:00.967016Z",
     "start_time": "2021-11-01T11:03:00.933496Z"
    }
   },
   "outputs": [
    {
     "data": {
      "text/plain": [
       "Customer ID\n",
       "12748.00000   27.68437\n",
       "13089.00000   16.47640\n",
       "14606.00000   15.73674\n",
       "17841.00000   15.49392\n",
       "15311.00000   14.15373\n",
       "12971.00000   12.93218\n",
       "13798.00000   10.77557\n",
       "16029.00000    9.75969\n",
       "13694.00000    8.95092\n",
       "14527.00000    8.94763\n",
       "dtype: float64"
      ]
     },
     "execution_count": 176,
     "metadata": {},
     "output_type": "execute_result"
    }
   ],
   "source": [
    "# 3개월 동안 가장 많이 구매할 것으로 예상되는 10명의 고객(구매횟수)\n",
    "bgf.conditional_expected_number_of_purchases_up_to_time(3*4,\n",
    "                                                        rfm['frequency'],\n",
    "                                                        rfm['recency_weekly_p'],\n",
    "                                                        rfm['tenure_weekly_p']).sort_values(ascending=False).head(10)"
   ]
  },
  {
   "cell_type": "code",
   "execution_count": 178,
   "metadata": {
    "ExecuteTime": {
     "end_time": "2021-11-01T11:03:14.157056Z",
     "start_time": "2021-11-01T11:03:14.130523Z"
    }
   },
   "outputs": [],
   "source": [
    "# 3개월 예측 구매 횟수\n",
    "rfm[\"exp_sales_3_month\"] = bgf.predict(3*4,\n",
    "                                        rfm['frequency'],\n",
    "                                        rfm['recency_weekly_p'],\n",
    "                                        rfm['tenure_weekly_p'])"
   ]
  },
  {
   "cell_type": "code",
   "execution_count": 179,
   "metadata": {
    "ExecuteTime": {
     "end_time": "2021-11-01T11:03:20.790157Z",
     "start_time": "2021-11-01T11:03:20.759903Z"
    }
   },
   "outputs": [
    {
     "data": {
      "text/html": [
       "<div>\n",
       "<style scoped>\n",
       "    .dataframe tbody tr th:only-of-type {\n",
       "        vertical-align: middle;\n",
       "    }\n",
       "\n",
       "    .dataframe tbody tr th {\n",
       "        vertical-align: top;\n",
       "    }\n",
       "\n",
       "    .dataframe thead th {\n",
       "        text-align: right;\n",
       "    }\n",
       "</style>\n",
       "<table border=\"1\" class=\"dataframe\">\n",
       "  <thead>\n",
       "    <tr style=\"text-align: right;\">\n",
       "      <th></th>\n",
       "      <th>recency_cltv_p</th>\n",
       "      <th>tenure</th>\n",
       "      <th>frequency</th>\n",
       "      <th>monetary_avg</th>\n",
       "      <th>recency_weekly_p</th>\n",
       "      <th>tenure_weekly_p</th>\n",
       "      <th>exp_sales_3_month</th>\n",
       "    </tr>\n",
       "    <tr>\n",
       "      <th>Customer ID</th>\n",
       "      <th></th>\n",
       "      <th></th>\n",
       "      <th></th>\n",
       "      <th></th>\n",
       "      <th></th>\n",
       "      <th></th>\n",
       "      <th></th>\n",
       "    </tr>\n",
       "  </thead>\n",
       "  <tbody>\n",
       "    <tr>\n",
       "      <th>12748.00000</th>\n",
       "      <td>181</td>\n",
       "      <td>183</td>\n",
       "      <td>86</td>\n",
       "      <td>106.89436</td>\n",
       "      <td>25.85714</td>\n",
       "      <td>26.14286</td>\n",
       "      <td>27.68437</td>\n",
       "    </tr>\n",
       "    <tr>\n",
       "      <th>13089.00000</th>\n",
       "      <td>169</td>\n",
       "      <td>179</td>\n",
       "      <td>51</td>\n",
       "      <td>547.28431</td>\n",
       "      <td>24.14286</td>\n",
       "      <td>25.57143</td>\n",
       "      <td>16.47640</td>\n",
       "    </tr>\n",
       "    <tr>\n",
       "      <th>14606.00000</th>\n",
       "      <td>178</td>\n",
       "      <td>183</td>\n",
       "      <td>48</td>\n",
       "      <td>141.28667</td>\n",
       "      <td>25.42857</td>\n",
       "      <td>26.14286</td>\n",
       "      <td>15.73674</td>\n",
       "    </tr>\n",
       "    <tr>\n",
       "      <th>17841.00000</th>\n",
       "      <td>180</td>\n",
       "      <td>183</td>\n",
       "      <td>47</td>\n",
       "      <td>245.31106</td>\n",
       "      <td>25.71429</td>\n",
       "      <td>26.14286</td>\n",
       "      <td>15.49392</td>\n",
       "    </tr>\n",
       "    <tr>\n",
       "      <th>15311.00000</th>\n",
       "      <td>177</td>\n",
       "      <td>183</td>\n",
       "      <td>43</td>\n",
       "      <td>689.53721</td>\n",
       "      <td>25.28571</td>\n",
       "      <td>26.14286</td>\n",
       "      <td>14.15373</td>\n",
       "    </tr>\n",
       "    <tr>\n",
       "      <th>...</th>\n",
       "      <td>...</td>\n",
       "      <td>...</td>\n",
       "      <td>...</td>\n",
       "      <td>...</td>\n",
       "      <td>...</td>\n",
       "      <td>...</td>\n",
       "      <td>...</td>\n",
       "    </tr>\n",
       "    <tr>\n",
       "      <th>16333.00000</th>\n",
       "      <td>117</td>\n",
       "      <td>119</td>\n",
       "      <td>16</td>\n",
       "      <td>424.18063</td>\n",
       "      <td>16.71429</td>\n",
       "      <td>17.00000</td>\n",
       "      <td>7.66812</td>\n",
       "    </tr>\n",
       "    <tr>\n",
       "      <th>13767.00000</th>\n",
       "      <td>170</td>\n",
       "      <td>183</td>\n",
       "      <td>22</td>\n",
       "      <td>329.14955</td>\n",
       "      <td>24.28571</td>\n",
       "      <td>26.14286</td>\n",
       "      <td>7.52967</td>\n",
       "    </tr>\n",
       "    <tr>\n",
       "      <th>13468.00000</th>\n",
       "      <td>171</td>\n",
       "      <td>183</td>\n",
       "      <td>21</td>\n",
       "      <td>171.00571</td>\n",
       "      <td>24.42857</td>\n",
       "      <td>26.14286</td>\n",
       "      <td>7.25415</td>\n",
       "    </tr>\n",
       "    <tr>\n",
       "      <th>17811.00000</th>\n",
       "      <td>133</td>\n",
       "      <td>143</td>\n",
       "      <td>17</td>\n",
       "      <td>230.49882</td>\n",
       "      <td>19.00000</td>\n",
       "      <td>20.42857</td>\n",
       "      <td>7.10709</td>\n",
       "    </tr>\n",
       "    <tr>\n",
       "      <th>17961.00000</th>\n",
       "      <td>175</td>\n",
       "      <td>182</td>\n",
       "      <td>20</td>\n",
       "      <td>39.57625</td>\n",
       "      <td>25.00000</td>\n",
       "      <td>26.00000</td>\n",
       "      <td>7.06173</td>\n",
       "    </tr>\n",
       "  </tbody>\n",
       "</table>\n",
       "<p>20 rows × 7 columns</p>\n",
       "</div>"
      ],
      "text/plain": [
       "             recency_cltv_p  tenure  frequency  monetary_avg  \\\n",
       "Customer ID                                                    \n",
       "12748.00000             181     183         86     106.89436   \n",
       "13089.00000             169     179         51     547.28431   \n",
       "14606.00000             178     183         48     141.28667   \n",
       "17841.00000             180     183         47     245.31106   \n",
       "15311.00000             177     183         43     689.53721   \n",
       "...                     ...     ...        ...           ...   \n",
       "16333.00000             117     119         16     424.18063   \n",
       "13767.00000             170     183         22     329.14955   \n",
       "13468.00000             171     183         21     171.00571   \n",
       "17811.00000             133     143         17     230.49882   \n",
       "17961.00000             175     182         20      39.57625   \n",
       "\n",
       "             recency_weekly_p  tenure_weekly_p  exp_sales_3_month  \n",
       "Customer ID                                                        \n",
       "12748.00000          25.85714         26.14286           27.68437  \n",
       "13089.00000          24.14286         25.57143           16.47640  \n",
       "14606.00000          25.42857         26.14286           15.73674  \n",
       "17841.00000          25.71429         26.14286           15.49392  \n",
       "15311.00000          25.28571         26.14286           14.15373  \n",
       "...                       ...              ...                ...  \n",
       "16333.00000          16.71429         17.00000            7.66812  \n",
       "13767.00000          24.28571         26.14286            7.52967  \n",
       "13468.00000          24.42857         26.14286            7.25415  \n",
       "17811.00000          19.00000         20.42857            7.10709  \n",
       "17961.00000          25.00000         26.00000            7.06173  \n",
       "\n",
       "[20 rows x 7 columns]"
      ]
     },
     "execution_count": 179,
     "metadata": {},
     "output_type": "execute_result"
    }
   ],
   "source": [
    "rfm.sort_values(\"exp_sales_3_month\", ascending=False).head(20)"
   ]
  },
  {
   "cell_type": "code",
   "execution_count": 180,
   "metadata": {
    "ExecuteTime": {
     "end_time": "2021-11-02T07:03:03.990172Z",
     "start_time": "2021-11-02T07:03:03.980069Z"
    }
   },
   "outputs": [
    {
     "data": {
      "text/plain": [
       "2920.7394303906794"
      ]
     },
     "execution_count": 180,
     "metadata": {},
     "output_type": "execute_result"
    }
   ],
   "source": [
    "rfm.exp_sales_3_month.sum()"
   ]
  },
  {
   "cell_type": "code",
   "execution_count": 181,
   "metadata": {
    "ExecuteTime": {
     "end_time": "2021-11-01T11:04:51.255163Z",
     "start_time": "2021-11-01T11:04:51.214925Z"
    }
   },
   "outputs": [
    {
     "data": {
      "text/plain": [
       "2920.7394303906794"
      ]
     },
     "execution_count": 181,
     "metadata": {},
     "output_type": "execute_result"
    }
   ],
   "source": [
    "# 3개월 동안 회사 전체의 예상 구매 횟수\n",
    "bgf.predict(4*3,\n",
    "            rfm['frequency'],\n",
    "            rfm['recency_weekly_p'],\n",
    "            rfm['tenure_weekly_p']).sum()"
   ]
  },
  {
   "cell_type": "code",
   "execution_count": 182,
   "metadata": {
    "ExecuteTime": {
     "end_time": "2021-11-01T11:05:33.816247Z",
     "start_time": "2021-11-01T11:05:31.975735Z"
    }
   },
   "outputs": [
    {
     "data": {
      "image/png": "[encoded data removed]",
      "text/plain": [
       "<Figure size 432x288 with 1 Axes>"
      ]
     },
     "metadata": {
      "needs_background": "light"
     },
     "output_type": "display_data"
    }
   ],
   "source": [
    "# 예측 결과 평가\n",
    "plot_period_transactions(bgf)\n",
    "plt.show()"
   ]
  },
  {
   "cell_type": "markdown",
   "metadata": {},
   "source": [
    "# GAMMA-GAMMA 모델 구축\n",
    "- It is used to estimate the average monetary value of customer transactions."
   ]
  },
  {
   "cell_type": "code",
   "execution_count": 184,
   "metadata": {
    "ExecuteTime": {
     "end_time": "2021-11-01T11:06:40.987273Z",
     "start_time": "2021-11-01T11:06:40.823221Z"
    }
   },
   "outputs": [
    {
     "data": {
      "text/plain": [
       "<lifetimes.GammaGammaFitter: fitted with 1252 subjects, p: 3.82, q: 0.35, v: 3.75>"
      ]
     },
     "execution_count": 184,
     "metadata": {},
     "output_type": "execute_result"
    }
   ],
   "source": [
    "ggf = GammaGammaFitter(penalizer_coef=0.01)  \n",
    "ggf.fit(rfm['frequency'], rfm['monetary_avg'])"
   ]
  },
  {
   "cell_type": "code",
   "execution_count": 185,
   "metadata": {},
   "outputs": [
    {
     "data": {
      "text/html": [
       "<div>\n",
       "<style scoped>\n",
       "    .dataframe tbody tr th:only-of-type {\n",
       "        vertical-align: middle;\n",
       "    }\n",
       "\n",
       "    .dataframe tbody tr th {\n",
       "        vertical-align: top;\n",
       "    }\n",
       "\n",
       "    .dataframe thead th {\n",
       "        text-align: right;\n",
       "    }\n",
       "</style>\n",
       "<table border=\"1\" class=\"dataframe\">\n",
       "  <thead>\n",
       "    <tr style=\"text-align: right;\">\n",
       "      <th></th>\n",
       "      <th>recency_cltv_p</th>\n",
       "      <th>tenure</th>\n",
       "      <th>frequency</th>\n",
       "      <th>monetary_avg</th>\n",
       "      <th>recency_weekly_p</th>\n",
       "      <th>tenure_weekly_p</th>\n",
       "      <th>exp_sales_3_month</th>\n",
       "    </tr>\n",
       "    <tr>\n",
       "      <th>Customer ID</th>\n",
       "      <th></th>\n",
       "      <th></th>\n",
       "      <th></th>\n",
       "      <th></th>\n",
       "      <th></th>\n",
       "      <th></th>\n",
       "      <th></th>\n",
       "    </tr>\n",
       "  </thead>\n",
       "  <tbody>\n",
       "    <tr>\n",
       "      <th>12747.00000</th>\n",
       "      <td>170</td>\n",
       "      <td>179</td>\n",
       "      <td>6</td>\n",
       "      <td>348.56667</td>\n",
       "      <td>24.28571</td>\n",
       "      <td>25.57143</td>\n",
       "      <td>2.72920</td>\n",
       "    </tr>\n",
       "    <tr>\n",
       "      <th>12748.00000</th>\n",
       "      <td>181</td>\n",
       "      <td>183</td>\n",
       "      <td>86</td>\n",
       "      <td>106.89436</td>\n",
       "      <td>25.85714</td>\n",
       "      <td>26.14286</td>\n",
       "      <td>27.68437</td>\n",
       "    </tr>\n",
       "  </tbody>\n",
       "</table>\n",
       "</div>"
      ],
      "text/plain": [
       "             recency_cltv_p  tenure  frequency  monetary_avg  \\\n",
       "Customer ID                                                    \n",
       "12747.00000             170     179          6     348.56667   \n",
       "12748.00000             181     183         86     106.89436   \n",
       "\n",
       "             recency_weekly_p  tenure_weekly_p  exp_sales_3_month  \n",
       "Customer ID                                                        \n",
       "12747.00000          24.28571         25.57143            2.72920  \n",
       "12748.00000          25.85714         26.14286           27.68437  "
      ]
     },
     "execution_count": 185,
     "metadata": {},
     "output_type": "execute_result"
    }
   ],
   "source": [
    "rfm.head(2)"
   ]
  },
  {
   "cell_type": "code",
   "execution_count": 194,
   "metadata": {},
   "outputs": [
    {
     "data": {
      "text/html": [
       "<div>\n",
       "<style scoped>\n",
       "    .dataframe tbody tr th:only-of-type {\n",
       "        vertical-align: middle;\n",
       "    }\n",
       "\n",
       "    .dataframe tbody tr th {\n",
       "        vertical-align: top;\n",
       "    }\n",
       "\n",
       "    .dataframe thead th {\n",
       "        text-align: right;\n",
       "    }\n",
       "</style>\n",
       "<table border=\"1\" class=\"dataframe\">\n",
       "  <thead>\n",
       "    <tr style=\"text-align: right;\">\n",
       "      <th></th>\n",
       "      <th>recency_cltv_p</th>\n",
       "      <th>tenure</th>\n",
       "      <th>frequency</th>\n",
       "      <th>monetary_avg</th>\n",
       "      <th>recency_weekly_p</th>\n",
       "      <th>tenure_weekly_p</th>\n",
       "      <th>exp_sales_3_month</th>\n",
       "    </tr>\n",
       "    <tr>\n",
       "      <th>Customer ID</th>\n",
       "      <th></th>\n",
       "      <th></th>\n",
       "      <th></th>\n",
       "      <th></th>\n",
       "      <th></th>\n",
       "      <th></th>\n",
       "      <th></th>\n",
       "    </tr>\n",
       "  </thead>\n",
       "  <tbody>\n",
       "    <tr>\n",
       "      <th>18102.00000</th>\n",
       "      <td>160</td>\n",
       "      <td>177</td>\n",
       "      <td>15</td>\n",
       "      <td>3088.61100</td>\n",
       "      <td>22.85714</td>\n",
       "      <td>25.28571</td>\n",
       "      <td>5.47086</td>\n",
       "    </tr>\n",
       "    <tr>\n",
       "      <th>15749.00000</th>\n",
       "      <td>97</td>\n",
       "      <td>142</td>\n",
       "      <td>3</td>\n",
       "      <td>2521.44667</td>\n",
       "      <td>13.85714</td>\n",
       "      <td>20.28571</td>\n",
       "      <td>1.84161</td>\n",
       "    </tr>\n",
       "    <tr>\n",
       "      <th>12939.00000</th>\n",
       "      <td>61</td>\n",
       "      <td>144</td>\n",
       "      <td>3</td>\n",
       "      <td>2375.96500</td>\n",
       "      <td>8.71429</td>\n",
       "      <td>20.57143</td>\n",
       "      <td>1.19255</td>\n",
       "    </tr>\n",
       "    <tr>\n",
       "      <th>17511.00000</th>\n",
       "      <td>167</td>\n",
       "      <td>183</td>\n",
       "      <td>15</td>\n",
       "      <td>2367.25933</td>\n",
       "      <td>23.85714</td>\n",
       "      <td>26.14286</td>\n",
       "      <td>5.37392</td>\n",
       "    </tr>\n",
       "    <tr>\n",
       "      <th>17450.00000</th>\n",
       "      <td>175</td>\n",
       "      <td>177</td>\n",
       "      <td>14</td>\n",
       "      <td>2273.48214</td>\n",
       "      <td>25.00000</td>\n",
       "      <td>25.28571</td>\n",
       "      <td>5.33352</td>\n",
       "    </tr>\n",
       "    <tr>\n",
       "      <th>...</th>\n",
       "      <td>...</td>\n",
       "      <td>...</td>\n",
       "      <td>...</td>\n",
       "      <td>...</td>\n",
       "      <td>...</td>\n",
       "      <td>...</td>\n",
       "      <td>...</td>\n",
       "    </tr>\n",
       "    <tr>\n",
       "      <th>15769.00000</th>\n",
       "      <td>173</td>\n",
       "      <td>181</td>\n",
       "      <td>13</td>\n",
       "      <td>1490.12269</td>\n",
       "      <td>24.71429</td>\n",
       "      <td>25.85714</td>\n",
       "      <td>4.89730</td>\n",
       "    </tr>\n",
       "    <tr>\n",
       "      <th>14769.00000</th>\n",
       "      <td>156</td>\n",
       "      <td>167</td>\n",
       "      <td>4</td>\n",
       "      <td>1459.33750</td>\n",
       "      <td>22.28571</td>\n",
       "      <td>23.85714</td>\n",
       "      <td>2.19104</td>\n",
       "    </tr>\n",
       "    <tr>\n",
       "      <th>17340.00000</th>\n",
       "      <td>173</td>\n",
       "      <td>176</td>\n",
       "      <td>4</td>\n",
       "      <td>1450.70250</td>\n",
       "      <td>24.71429</td>\n",
       "      <td>25.14286</td>\n",
       "      <td>2.13986</td>\n",
       "    </tr>\n",
       "    <tr>\n",
       "      <th>14895.00000</th>\n",
       "      <td>85</td>\n",
       "      <td>100</td>\n",
       "      <td>3</td>\n",
       "      <td>1306.59333</td>\n",
       "      <td>12.14286</td>\n",
       "      <td>14.28571</td>\n",
       "      <td>2.49193</td>\n",
       "    </tr>\n",
       "    <tr>\n",
       "      <th>13124.00000</th>\n",
       "      <td>106</td>\n",
       "      <td>169</td>\n",
       "      <td>2</td>\n",
       "      <td>1287.06000</td>\n",
       "      <td>15.14286</td>\n",
       "      <td>24.14286</td>\n",
       "      <td>1.29110</td>\n",
       "    </tr>\n",
       "  </tbody>\n",
       "</table>\n",
       "<p>20 rows × 7 columns</p>\n",
       "</div>"
      ],
      "text/plain": [
       "             recency_cltv_p  tenure  frequency  monetary_avg  \\\n",
       "Customer ID                                                    \n",
       "18102.00000             160     177         15    3088.61100   \n",
       "15749.00000              97     142          3    2521.44667   \n",
       "12939.00000              61     144          3    2375.96500   \n",
       "17511.00000             167     183         15    2367.25933   \n",
       "17450.00000             175     177         14    2273.48214   \n",
       "...                     ...     ...        ...           ...   \n",
       "15769.00000             173     181         13    1490.12269   \n",
       "14769.00000             156     167          4    1459.33750   \n",
       "17340.00000             173     176          4    1450.70250   \n",
       "14895.00000              85     100          3    1306.59333   \n",
       "13124.00000             106     169          2    1287.06000   \n",
       "\n",
       "             recency_weekly_p  tenure_weekly_p  exp_sales_3_month  \n",
       "Customer ID                                                        \n",
       "18102.00000          22.85714         25.28571            5.47086  \n",
       "15749.00000          13.85714         20.28571            1.84161  \n",
       "12939.00000           8.71429         20.57143            1.19255  \n",
       "17511.00000          23.85714         26.14286            5.37392  \n",
       "17450.00000          25.00000         25.28571            5.33352  \n",
       "...                       ...              ...                ...  \n",
       "15769.00000          24.71429         25.85714            4.89730  \n",
       "14769.00000          22.28571         23.85714            2.19104  \n",
       "17340.00000          24.71429         25.14286            2.13986  \n",
       "14895.00000          12.14286         14.28571            2.49193  \n",
       "13124.00000          15.14286         24.14286            1.29110  \n",
       "\n",
       "[20 rows x 7 columns]"
      ]
     },
     "execution_count": 194,
     "metadata": {},
     "output_type": "execute_result"
    }
   ],
   "source": [
    "rfm.sort_values('monetary_avg', ascending=False).head(20)"
   ]
  },
  {
   "cell_type": "code",
   "execution_count": 187,
   "metadata": {},
   "outputs": [
    {
     "data": {
      "text/plain": [
       "count   1252.00000\n",
       "mean     350.07700\n",
       "std      280.78148\n",
       "min       10.65500\n",
       "0%        10.65500\n",
       "           ...    \n",
       "80%      464.52238\n",
       "85%      522.10550\n",
       "90%      596.19204\n",
       "95%      825.21121\n",
       "max     3088.61100\n",
       "Name: monetary_avg, Length: 13, dtype: float64"
      ]
     },
     "execution_count": 187,
     "metadata": {},
     "output_type": "execute_result"
    }
   ],
   "source": [
    "rfm.monetary_avg.describe([0, .25, .5, .75, .8, .85, .9, .95])"
   ]
  },
  {
   "cell_type": "code",
   "execution_count": 189,
   "metadata": {},
   "outputs": [
    {
     "data": {
      "image/png": "[encoded data removed]",
      "text/plain": [
       "<Figure size 432x288 with 1 Axes>"
      ]
     },
     "metadata": {
      "needs_background": "light"
     },
     "output_type": "display_data"
    }
   ],
   "source": [
    "import matplotlib.pyplot as plt\n",
    "plt.boxplot(rfm.monetary_avg);"
   ]
  },
  {
   "cell_type": "code",
   "execution_count": 164,
   "metadata": {
    "ExecuteTime": {
     "end_time": "2021-11-01T11:06:47.416002Z",
     "start_time": "2021-11-01T11:06:47.394549Z"
    }
   },
   "outputs": [
    {
     "data": {
      "text/plain": [
       "Customer ID\n",
       "18102.00000   3124.47245\n",
       "15749.00000   2675.14762\n",
       "12939.00000   2520.87416\n",
       "17511.00000   2394.80426\n",
       "17450.00000   2301.85954\n",
       "17107.00000   2253.95150\n",
       "15251.00000   2241.32736\n",
       "13081.00000   2118.49202\n",
       "15125.00000   1910.26359\n",
       "16684.00000   1783.89693\n",
       "dtype: float64"
      ]
     },
     "execution_count": 164,
     "metadata": {},
     "output_type": "execute_result"
    }
   ],
   "source": [
    "# conditional_expected_average_profit : 평균이익의 조건부 기대값을 계산\n",
    "# 고객의 기대 구입액 계산\n",
    "ggf.conditional_expected_average_profit(rfm['frequency'],\n",
    "                                        rfm['monetary_avg']).sort_values(ascending=False).head(10)"
   ]
  },
  {
   "cell_type": "code",
   "execution_count": 224,
   "metadata": {
    "ExecuteTime": {
     "end_time": "2021-11-01T11:06:55.397054Z",
     "start_time": "2021-11-01T11:06:55.375637Z"
    }
   },
   "outputs": [],
   "source": [
    "rfm[\"expected_average_profit\"] = ggf.conditional_expected_average_profit(rfm['frequency'],\n",
    "                                                                         rfm['monetary_avg'])"
   ]
  },
  {
   "cell_type": "code",
   "execution_count": 225,
   "metadata": {
    "ExecuteTime": {
     "end_time": "2021-11-01T11:07:05.891986Z",
     "start_time": "2021-11-01T11:07:05.863119Z"
    }
   },
   "outputs": [
    {
     "data": {
      "text/html": [
       "<div>\n",
       "<style scoped>\n",
       "    .dataframe tbody tr th:only-of-type {\n",
       "        vertical-align: middle;\n",
       "    }\n",
       "\n",
       "    .dataframe tbody tr th {\n",
       "        vertical-align: top;\n",
       "    }\n",
       "\n",
       "    .dataframe thead th {\n",
       "        text-align: right;\n",
       "    }\n",
       "</style>\n",
       "<table border=\"1\" class=\"dataframe\">\n",
       "  <thead>\n",
       "    <tr style=\"text-align: right;\">\n",
       "      <th></th>\n",
       "      <th>recency_cltv_p</th>\n",
       "      <th>tenure</th>\n",
       "      <th>frequency</th>\n",
       "      <th>monetary_avg</th>\n",
       "      <th>recency_weekly_p</th>\n",
       "      <th>tenure_weekly_p</th>\n",
       "      <th>exp_sales_3_month</th>\n",
       "      <th>expected_average_profit</th>\n",
       "    </tr>\n",
       "    <tr>\n",
       "      <th>Customer ID</th>\n",
       "      <th></th>\n",
       "      <th></th>\n",
       "      <th></th>\n",
       "      <th></th>\n",
       "      <th></th>\n",
       "      <th></th>\n",
       "      <th></th>\n",
       "      <th></th>\n",
       "    </tr>\n",
       "  </thead>\n",
       "  <tbody>\n",
       "    <tr>\n",
       "      <th>18102.00000</th>\n",
       "      <td>160</td>\n",
       "      <td>177</td>\n",
       "      <td>15</td>\n",
       "      <td>3088.61100</td>\n",
       "      <td>22.85714</td>\n",
       "      <td>25.28571</td>\n",
       "      <td>5.47086</td>\n",
       "      <td>3124.47245</td>\n",
       "    </tr>\n",
       "    <tr>\n",
       "      <th>15749.00000</th>\n",
       "      <td>97</td>\n",
       "      <td>142</td>\n",
       "      <td>3</td>\n",
       "      <td>2521.44667</td>\n",
       "      <td>13.85714</td>\n",
       "      <td>20.28571</td>\n",
       "      <td>1.84161</td>\n",
       "      <td>2675.14762</td>\n",
       "    </tr>\n",
       "    <tr>\n",
       "      <th>12939.00000</th>\n",
       "      <td>61</td>\n",
       "      <td>144</td>\n",
       "      <td>3</td>\n",
       "      <td>2375.96500</td>\n",
       "      <td>8.71429</td>\n",
       "      <td>20.57143</td>\n",
       "      <td>1.19255</td>\n",
       "      <td>2520.87416</td>\n",
       "    </tr>\n",
       "    <tr>\n",
       "      <th>17511.00000</th>\n",
       "      <td>167</td>\n",
       "      <td>183</td>\n",
       "      <td>15</td>\n",
       "      <td>2367.25933</td>\n",
       "      <td>23.85714</td>\n",
       "      <td>26.14286</td>\n",
       "      <td>5.37392</td>\n",
       "      <td>2394.80426</td>\n",
       "    </tr>\n",
       "    <tr>\n",
       "      <th>17450.00000</th>\n",
       "      <td>175</td>\n",
       "      <td>177</td>\n",
       "      <td>14</td>\n",
       "      <td>2273.48214</td>\n",
       "      <td>25.00000</td>\n",
       "      <td>25.28571</td>\n",
       "      <td>5.33352</td>\n",
       "      <td>2301.85954</td>\n",
       "    </tr>\n",
       "    <tr>\n",
       "      <th>...</th>\n",
       "      <td>...</td>\n",
       "      <td>...</td>\n",
       "      <td>...</td>\n",
       "      <td>...</td>\n",
       "      <td>...</td>\n",
       "      <td>...</td>\n",
       "      <td>...</td>\n",
       "      <td>...</td>\n",
       "    </tr>\n",
       "    <tr>\n",
       "      <th>17961.00000</th>\n",
       "      <td>175</td>\n",
       "      <td>182</td>\n",
       "      <td>20</td>\n",
       "      <td>39.57625</td>\n",
       "      <td>25.00000</td>\n",
       "      <td>26.00000</td>\n",
       "      <td>7.06173</td>\n",
       "      <td>40.10638</td>\n",
       "    </tr>\n",
       "    <tr>\n",
       "      <th>13666.00000</th>\n",
       "      <td>0</td>\n",
       "      <td>97</td>\n",
       "      <td>2</td>\n",
       "      <td>32.02500</td>\n",
       "      <td>0.00000</td>\n",
       "      <td>13.85714</td>\n",
       "      <td>0.49022</td>\n",
       "      <td>37.06649</td>\n",
       "    </tr>\n",
       "    <tr>\n",
       "      <th>12970.00000</th>\n",
       "      <td>0</td>\n",
       "      <td>132</td>\n",
       "      <td>2</td>\n",
       "      <td>11.90000</td>\n",
       "      <td>0.00000</td>\n",
       "      <td>18.85714</td>\n",
       "      <td>0.18865</td>\n",
       "      <td>15.06035</td>\n",
       "    </tr>\n",
       "    <tr>\n",
       "      <th>17816.00000</th>\n",
       "      <td>96</td>\n",
       "      <td>175</td>\n",
       "      <td>2</td>\n",
       "      <td>10.65500</td>\n",
       "      <td>13.71429</td>\n",
       "      <td>25.00000</td>\n",
       "      <td>1.14235</td>\n",
       "      <td>13.69898</td>\n",
       "    </tr>\n",
       "    <tr>\n",
       "      <th>18037.00000</th>\n",
       "      <td>137</td>\n",
       "      <td>172</td>\n",
       "      <td>5</td>\n",
       "      <td>12.16400</td>\n",
       "      <td>19.57143</td>\n",
       "      <td>24.57143</td>\n",
       "      <td>2.32232</td>\n",
       "      <td>13.37035</td>\n",
       "    </tr>\n",
       "  </tbody>\n",
       "</table>\n",
       "<p>1252 rows × 8 columns</p>\n",
       "</div>"
      ],
      "text/plain": [
       "             recency_cltv_p  tenure  frequency  monetary_avg  \\\n",
       "Customer ID                                                    \n",
       "18102.00000             160     177         15    3088.61100   \n",
       "15749.00000              97     142          3    2521.44667   \n",
       "12939.00000              61     144          3    2375.96500   \n",
       "17511.00000             167     183         15    2367.25933   \n",
       "17450.00000             175     177         14    2273.48214   \n",
       "...                     ...     ...        ...           ...   \n",
       "17961.00000             175     182         20      39.57625   \n",
       "13666.00000               0      97          2      32.02500   \n",
       "12970.00000               0     132          2      11.90000   \n",
       "17816.00000              96     175          2      10.65500   \n",
       "18037.00000             137     172          5      12.16400   \n",
       "\n",
       "             recency_weekly_p  tenure_weekly_p  exp_sales_3_month  \\\n",
       "Customer ID                                                         \n",
       "18102.00000          22.85714         25.28571            5.47086   \n",
       "15749.00000          13.85714         20.28571            1.84161   \n",
       "12939.00000           8.71429         20.57143            1.19255   \n",
       "17511.00000          23.85714         26.14286            5.37392   \n",
       "17450.00000          25.00000         25.28571            5.33352   \n",
       "...                       ...              ...                ...   \n",
       "17961.00000          25.00000         26.00000            7.06173   \n",
       "13666.00000           0.00000         13.85714            0.49022   \n",
       "12970.00000           0.00000         18.85714            0.18865   \n",
       "17816.00000          13.71429         25.00000            1.14235   \n",
       "18037.00000          19.57143         24.57143            2.32232   \n",
       "\n",
       "             expected_average_profit  \n",
       "Customer ID                           \n",
       "18102.00000               3124.47245  \n",
       "15749.00000               2675.14762  \n",
       "12939.00000               2520.87416  \n",
       "17511.00000               2394.80426  \n",
       "17450.00000               2301.85954  \n",
       "...                              ...  \n",
       "17961.00000                 40.10638  \n",
       "13666.00000                 37.06649  \n",
       "12970.00000                 15.06035  \n",
       "17816.00000                 13.69898  \n",
       "18037.00000                 13.37035  \n",
       "\n",
       "[1252 rows x 8 columns]"
      ]
     },
     "execution_count": 225,
     "metadata": {},
     "output_type": "execute_result"
    }
   ],
   "source": [
    "rfm.sort_values(\"expected_average_profit\", ascending=False)"
   ]
  },
  {
   "cell_type": "markdown",
   "metadata": {},
   "source": [
    "# BG-NBD 및 GG 모델을 사용한 CLTV 계산."
   ]
  },
  {
   "cell_type": "code",
   "execution_count": 195,
   "metadata": {
    "ExecuteTime": {
     "end_time": "2021-11-01T11:07:45.218993Z",
     "start_time": "2021-11-01T11:07:44.952621Z"
    }
   },
   "outputs": [],
   "source": [
    "pre_cltv = ggf.customer_lifetime_value(bgf,\n",
    "                                   rfm['frequency'],\n",
    "                                   rfm['recency_weekly_p'],\n",
    "                                   rfm['tenure_weekly_p'],\n",
    "                                   rfm['monetary_avg'],\n",
    "                                   time=3,   # 6개월\n",
    "                                   freq=\"W\",\n",
    "                                   discount_rate=0.01)"
   ]
  },
  {
   "cell_type": "code",
   "execution_count": 196,
   "metadata": {
    "ExecuteTime": {
     "end_time": "2021-11-01T11:07:55.746335Z",
     "start_time": "2021-11-01T11:07:55.734713Z"
    }
   },
   "outputs": [
    {
     "data": {
      "text/plain": [
       "Customer ID\n",
       "12747.00000   1041.66009\n",
       "12748.00000   3150.50282\n",
       "12823.00000    580.73791\n",
       "12826.00000    117.30980\n",
       "12829.00000     42.20822\n",
       "Name: clv, dtype: float64"
      ]
     },
     "execution_count": 196,
     "metadata": {},
     "output_type": "execute_result"
    }
   ],
   "source": [
    "pre_cltv.head()"
   ]
  },
  {
   "cell_type": "code",
   "execution_count": 197,
   "metadata": {
    "ExecuteTime": {
     "end_time": "2021-11-01T11:08:09.686530Z",
     "start_time": "2021-11-01T11:08:09.679233Z"
    }
   },
   "outputs": [
    {
     "data": {
      "text/plain": [
       "(1252,)"
      ]
     },
     "execution_count": 197,
     "metadata": {},
     "output_type": "execute_result"
    }
   ],
   "source": [
    "pre_cltv.shape"
   ]
  },
  {
   "cell_type": "code",
   "execution_count": 198,
   "metadata": {
    "ExecuteTime": {
     "end_time": "2021-11-01T11:08:15.078193Z",
     "start_time": "2021-11-01T11:08:15.070194Z"
    }
   },
   "outputs": [],
   "source": [
    "pre_cltv = pre_cltv.reset_index()"
   ]
  },
  {
   "cell_type": "code",
   "execution_count": 199,
   "metadata": {
    "ExecuteTime": {
     "end_time": "2021-11-01T11:08:24.213486Z",
     "start_time": "2021-11-01T11:08:24.195005Z"
    }
   },
   "outputs": [
    {
     "data": {
      "text/html": [
       "<div>\n",
       "<style scoped>\n",
       "    .dataframe tbody tr th:only-of-type {\n",
       "        vertical-align: middle;\n",
       "    }\n",
       "\n",
       "    .dataframe tbody tr th {\n",
       "        vertical-align: top;\n",
       "    }\n",
       "\n",
       "    .dataframe thead th {\n",
       "        text-align: right;\n",
       "    }\n",
       "</style>\n",
       "<table border=\"1\" class=\"dataframe\">\n",
       "  <thead>\n",
       "    <tr style=\"text-align: right;\">\n",
       "      <th></th>\n",
       "      <th>Customer ID</th>\n",
       "      <th>clv</th>\n",
       "    </tr>\n",
       "  </thead>\n",
       "  <tbody>\n",
       "    <tr>\n",
       "      <th>1215</th>\n",
       "      <td>18102.00000</td>\n",
       "      <td>18152.33062</td>\n",
       "    </tr>\n",
       "    <tr>\n",
       "      <th>1066</th>\n",
       "      <td>17511.00000</td>\n",
       "      <td>13667.31932</td>\n",
       "    </tr>\n",
       "    <tr>\n",
       "      <th>1055</th>\n",
       "      <td>17450.00000</td>\n",
       "      <td>13037.39311</td>\n",
       "    </tr>\n",
       "    <tr>\n",
       "      <th>569</th>\n",
       "      <td>15311.00000</td>\n",
       "      <td>10407.74433</td>\n",
       "    </tr>\n",
       "    <tr>\n",
       "      <th>202</th>\n",
       "      <td>13694.00000</td>\n",
       "      <td>10125.59087</td>\n",
       "    </tr>\n",
       "    <tr>\n",
       "      <th>...</th>\n",
       "      <td>...</td>\n",
       "      <td>...</td>\n",
       "    </tr>\n",
       "    <tr>\n",
       "      <th>680</th>\n",
       "      <td>15856.00000</td>\n",
       "      <td>3181.00009</td>\n",
       "    </tr>\n",
       "    <tr>\n",
       "      <th>1</th>\n",
       "      <td>12748.00000</td>\n",
       "      <td>3150.50282</td>\n",
       "    </tr>\n",
       "    <tr>\n",
       "      <th>760</th>\n",
       "      <td>16210.00000</td>\n",
       "      <td>3135.07764</td>\n",
       "    </tr>\n",
       "    <tr>\n",
       "      <th>1108</th>\n",
       "      <td>17675.00000</td>\n",
       "      <td>3091.71542</td>\n",
       "    </tr>\n",
       "    <tr>\n",
       "      <th>866</th>\n",
       "      <td>16705.00000</td>\n",
       "      <td>3088.91175</td>\n",
       "    </tr>\n",
       "  </tbody>\n",
       "</table>\n",
       "<p>50 rows × 2 columns</p>\n",
       "</div>"
      ],
      "text/plain": [
       "      Customer ID         clv\n",
       "1215  18102.00000 18152.33062\n",
       "1066  17511.00000 13667.31932\n",
       "1055  17450.00000 13037.39311\n",
       "569   15311.00000 10407.74433\n",
       "202   13694.00000 10125.59087\n",
       "...           ...         ...\n",
       "680   15856.00000  3181.00009\n",
       "1     12748.00000  3150.50282\n",
       "760   16210.00000  3135.07764\n",
       "1108  17675.00000  3091.71542\n",
       "866   16705.00000  3088.91175\n",
       "\n",
       "[50 rows x 2 columns]"
      ]
     },
     "execution_count": 199,
     "metadata": {},
     "output_type": "execute_result"
    }
   ],
   "source": [
    "pre_cltv.sort_values(by=\"clv\", ascending=False).head(50)"
   ]
  },
  {
   "cell_type": "code",
   "execution_count": 212,
   "metadata": {
    "ExecuteTime": {
     "end_time": "2021-11-01T11:08:44.817459Z",
     "start_time": "2021-11-01T11:08:44.769456Z"
    }
   },
   "outputs": [
    {
     "data": {
      "text/html": [
       "<div>\n",
       "<style scoped>\n",
       "    .dataframe tbody tr th:only-of-type {\n",
       "        vertical-align: middle;\n",
       "    }\n",
       "\n",
       "    .dataframe tbody tr th {\n",
       "        vertical-align: top;\n",
       "    }\n",
       "\n",
       "    .dataframe thead th {\n",
       "        text-align: right;\n",
       "    }\n",
       "</style>\n",
       "<table border=\"1\" class=\"dataframe\">\n",
       "  <thead>\n",
       "    <tr style=\"text-align: right;\">\n",
       "      <th></th>\n",
       "      <th>Customer ID</th>\n",
       "      <th>recency_cltv_p</th>\n",
       "      <th>tenure</th>\n",
       "      <th>frequency</th>\n",
       "      <th>monetary_avg</th>\n",
       "      <th>recency_weekly_p</th>\n",
       "      <th>tenure_weekly_p</th>\n",
       "      <th>exp_sales_3_month</th>\n",
       "      <th>exp_cltv</th>\n",
       "    </tr>\n",
       "  </thead>\n",
       "  <tbody>\n",
       "    <tr>\n",
       "      <th>0</th>\n",
       "      <td>12747.00000</td>\n",
       "      <td>170</td>\n",
       "      <td>179</td>\n",
       "      <td>6</td>\n",
       "      <td>348.56667</td>\n",
       "      <td>24.28571</td>\n",
       "      <td>25.57143</td>\n",
       "      <td>2.72920</td>\n",
       "      <td>1041.66009</td>\n",
       "    </tr>\n",
       "    <tr>\n",
       "      <th>1</th>\n",
       "      <td>12748.00000</td>\n",
       "      <td>181</td>\n",
       "      <td>183</td>\n",
       "      <td>86</td>\n",
       "      <td>106.89436</td>\n",
       "      <td>25.85714</td>\n",
       "      <td>26.14286</td>\n",
       "      <td>27.68437</td>\n",
       "      <td>3150.50282</td>\n",
       "    </tr>\n",
       "  </tbody>\n",
       "</table>\n",
       "</div>"
      ],
      "text/plain": [
       "   Customer ID  recency_cltv_p  tenure  frequency  monetary_avg  \\\n",
       "0  12747.00000             170     179          6     348.56667   \n",
       "1  12748.00000             181     183         86     106.89436   \n",
       "\n",
       "   recency_weekly_p  tenure_weekly_p  exp_sales_3_month   exp_cltv  \n",
       "0          24.28571         25.57143            2.72920 1041.66009  \n",
       "1          25.85714         26.14286           27.68437 3150.50282  "
      ]
     },
     "execution_count": 212,
     "metadata": {},
     "output_type": "execute_result"
    }
   ],
   "source": [
    "rfm_cltv_final = rfm.merge(pre_cltv, on=\"Customer ID\", how=\"left\")\n",
    "rfm_cltv_final.sort_values(by=\"clv\", ascending=False).head()\n",
    "rfm_cltv_final.rename(columns={\"clv\": \"exp_cltv\"}, inplace=True)\n",
    "rfm_cltv_final.head(2)"
   ]
  },
  {
   "cell_type": "code",
   "execution_count": 214,
   "metadata": {},
   "outputs": [
    {
     "data": {
      "text/html": [
       "<div>\n",
       "<style scoped>\n",
       "    .dataframe tbody tr th:only-of-type {\n",
       "        vertical-align: middle;\n",
       "    }\n",
       "\n",
       "    .dataframe tbody tr th {\n",
       "        vertical-align: top;\n",
       "    }\n",
       "\n",
       "    .dataframe thead th {\n",
       "        text-align: right;\n",
       "    }\n",
       "</style>\n",
       "<table border=\"1\" class=\"dataframe\">\n",
       "  <thead>\n",
       "    <tr style=\"text-align: right;\">\n",
       "      <th></th>\n",
       "      <th>Customer ID</th>\n",
       "      <th>exp_freq</th>\n",
       "      <th>exp_cltv</th>\n",
       "    </tr>\n",
       "  </thead>\n",
       "  <tbody>\n",
       "    <tr>\n",
       "      <th>0</th>\n",
       "      <td>12747.00000</td>\n",
       "      <td>2.72920</td>\n",
       "      <td>1041.66009</td>\n",
       "    </tr>\n",
       "    <tr>\n",
       "      <th>1</th>\n",
       "      <td>12748.00000</td>\n",
       "      <td>27.68437</td>\n",
       "      <td>3150.50282</td>\n",
       "    </tr>\n",
       "  </tbody>\n",
       "</table>\n",
       "</div>"
      ],
      "text/plain": [
       "   Customer ID  exp_freq   exp_cltv\n",
       "0  12747.00000   2.72920 1041.66009\n",
       "1  12748.00000  27.68437 3150.50282"
      ]
     },
     "execution_count": 214,
     "metadata": {},
     "output_type": "execute_result"
    }
   ],
   "source": [
    "predict_df = rfm_cltv_final[['Customer ID', 'exp_sales_3_month', 'exp_cltv' ]]\n",
    "predict_df.rename(columns={\"exp_sales_3_month\": \"exp_freq\"}, inplace=True)\n",
    "predict_df.head(2)"
   ]
  },
  {
   "cell_type": "code",
   "execution_count": 203,
   "metadata": {},
   "outputs": [
    {
     "data": {
      "text/html": [
       "<div>\n",
       "<style scoped>\n",
       "    .dataframe tbody tr th:only-of-type {\n",
       "        vertical-align: middle;\n",
       "    }\n",
       "\n",
       "    .dataframe tbody tr th {\n",
       "        vertical-align: top;\n",
       "    }\n",
       "\n",
       "    .dataframe thead th {\n",
       "        text-align: right;\n",
       "    }\n",
       "</style>\n",
       "<table border=\"1\" class=\"dataframe\">\n",
       "  <thead>\n",
       "    <tr style=\"text-align: right;\">\n",
       "      <th></th>\n",
       "      <th>Invoice</th>\n",
       "      <th>StockCode</th>\n",
       "      <th>Description</th>\n",
       "      <th>Quantity</th>\n",
       "      <th>InvoiceDate</th>\n",
       "      <th>Price</th>\n",
       "      <th>Customer ID</th>\n",
       "      <th>Country</th>\n",
       "      <th>TotalPrice</th>\n",
       "    </tr>\n",
       "  </thead>\n",
       "  <tbody>\n",
       "    <tr>\n",
       "      <th>209029</th>\n",
       "      <td>555156</td>\n",
       "      <td>23299</td>\n",
       "      <td>FOOD COVER WITH BEADS SET 2</td>\n",
       "      <td>6.00000</td>\n",
       "      <td>2011-06-01 07:37:00</td>\n",
       "      <td>3.75000</td>\n",
       "      <td>15643.00000</td>\n",
       "      <td>United Kingdom</td>\n",
       "      <td>22.50000</td>\n",
       "    </tr>\n",
       "    <tr>\n",
       "      <th>209030</th>\n",
       "      <td>555156</td>\n",
       "      <td>22847</td>\n",
       "      <td>BREAD BIN DINER STYLE IVORY</td>\n",
       "      <td>1.00000</td>\n",
       "      <td>2011-06-01 07:37:00</td>\n",
       "      <td>16.95000</td>\n",
       "      <td>15643.00000</td>\n",
       "      <td>United Kingdom</td>\n",
       "      <td>16.95000</td>\n",
       "    </tr>\n",
       "    <tr>\n",
       "      <th>209031</th>\n",
       "      <td>555157</td>\n",
       "      <td>23075</td>\n",
       "      <td>PARLOUR CERAMIC WALL HOOK</td>\n",
       "      <td>16.00000</td>\n",
       "      <td>2011-06-01 07:38:00</td>\n",
       "      <td>4.15000</td>\n",
       "      <td>15643.00000</td>\n",
       "      <td>United Kingdom</td>\n",
       "      <td>66.40000</td>\n",
       "    </tr>\n",
       "    <tr>\n",
       "      <th>209032</th>\n",
       "      <td>555157</td>\n",
       "      <td>47590B</td>\n",
       "      <td>PINK HAPPY BIRTHDAY BUNTING</td>\n",
       "      <td>6.00000</td>\n",
       "      <td>2011-06-01 07:38:00</td>\n",
       "      <td>5.45000</td>\n",
       "      <td>15643.00000</td>\n",
       "      <td>United Kingdom</td>\n",
       "      <td>32.70000</td>\n",
       "    </tr>\n",
       "    <tr>\n",
       "      <th>209033</th>\n",
       "      <td>555157</td>\n",
       "      <td>22423</td>\n",
       "      <td>REGENCY CAKESTAND 3 TIER</td>\n",
       "      <td>4.00000</td>\n",
       "      <td>2011-06-01 07:38:00</td>\n",
       "      <td>12.75000</td>\n",
       "      <td>15643.00000</td>\n",
       "      <td>United Kingdom</td>\n",
       "      <td>51.00000</td>\n",
       "    </tr>\n",
       "    <tr>\n",
       "      <th>...</th>\n",
       "      <td>...</td>\n",
       "      <td>...</td>\n",
       "      <td>...</td>\n",
       "      <td>...</td>\n",
       "      <td>...</td>\n",
       "      <td>...</td>\n",
       "      <td>...</td>\n",
       "      <td>...</td>\n",
       "      <td>...</td>\n",
       "    </tr>\n",
       "    <tr>\n",
       "      <th>320690</th>\n",
       "      <td>565067</td>\n",
       "      <td>22637</td>\n",
       "      <td>PIGGY BANK RETROSPOT</td>\n",
       "      <td>2.00000</td>\n",
       "      <td>2011-08-31 17:16:00</td>\n",
       "      <td>2.55000</td>\n",
       "      <td>15856.00000</td>\n",
       "      <td>United Kingdom</td>\n",
       "      <td>5.10000</td>\n",
       "    </tr>\n",
       "    <tr>\n",
       "      <th>320691</th>\n",
       "      <td>565067</td>\n",
       "      <td>22646</td>\n",
       "      <td>CERAMIC STRAWBERRY CAKE MONEY BANK</td>\n",
       "      <td>2.00000</td>\n",
       "      <td>2011-08-31 17:16:00</td>\n",
       "      <td>1.45000</td>\n",
       "      <td>15856.00000</td>\n",
       "      <td>United Kingdom</td>\n",
       "      <td>2.90000</td>\n",
       "    </tr>\n",
       "    <tr>\n",
       "      <th>320692</th>\n",
       "      <td>565067</td>\n",
       "      <td>22741</td>\n",
       "      <td>FUNKY DIVA PEN</td>\n",
       "      <td>48.00000</td>\n",
       "      <td>2011-08-31 17:16:00</td>\n",
       "      <td>0.85000</td>\n",
       "      <td>15856.00000</td>\n",
       "      <td>United Kingdom</td>\n",
       "      <td>40.80000</td>\n",
       "    </tr>\n",
       "    <tr>\n",
       "      <th>320694</th>\n",
       "      <td>565070</td>\n",
       "      <td>85032D</td>\n",
       "      <td>NaN</td>\n",
       "      <td>171.00000</td>\n",
       "      <td>2011-08-31 17:18:00</td>\n",
       "      <td>0.00000</td>\n",
       "      <td>NaN</td>\n",
       "      <td>United Kingdom</td>\n",
       "      <td>0.00000</td>\n",
       "    </tr>\n",
       "    <tr>\n",
       "      <th>320699</th>\n",
       "      <td>565076</td>\n",
       "      <td>23192</td>\n",
       "      <td>BUNDLE OF 3 ALPHABET EXERCISE BOOKS</td>\n",
       "      <td>1.00000</td>\n",
       "      <td>2011-08-31 17:30:00</td>\n",
       "      <td>1.65000</td>\n",
       "      <td>NaN</td>\n",
       "      <td>United Kingdom</td>\n",
       "      <td>1.65000</td>\n",
       "    </tr>\n",
       "  </tbody>\n",
       "</table>\n",
       "<p>98286 rows × 9 columns</p>\n",
       "</div>"
      ],
      "text/plain": [
       "       Invoice StockCode                          Description  Quantity  \\\n",
       "209029  555156     23299         FOOD COVER WITH BEADS SET 2    6.00000   \n",
       "209030  555156     22847          BREAD BIN DINER STYLE IVORY   1.00000   \n",
       "209031  555157     23075            PARLOUR CERAMIC WALL HOOK  16.00000   \n",
       "209032  555157    47590B          PINK HAPPY BIRTHDAY BUNTING   6.00000   \n",
       "209033  555157     22423             REGENCY CAKESTAND 3 TIER   4.00000   \n",
       "...        ...       ...                                  ...       ...   \n",
       "320690  565067     22637                PIGGY BANK RETROSPOT    2.00000   \n",
       "320691  565067     22646   CERAMIC STRAWBERRY CAKE MONEY BANK   2.00000   \n",
       "320692  565067     22741                       FUNKY DIVA PEN  48.00000   \n",
       "320694  565070    85032D                                  NaN 171.00000   \n",
       "320699  565076     23192  BUNDLE OF 3 ALPHABET EXERCISE BOOKS   1.00000   \n",
       "\n",
       "               InvoiceDate    Price  Customer ID         Country  TotalPrice  \n",
       "209029 2011-06-01 07:37:00  3.75000  15643.00000  United Kingdom    22.50000  \n",
       "209030 2011-06-01 07:37:00 16.95000  15643.00000  United Kingdom    16.95000  \n",
       "209031 2011-06-01 07:38:00  4.15000  15643.00000  United Kingdom    66.40000  \n",
       "209032 2011-06-01 07:38:00  5.45000  15643.00000  United Kingdom    32.70000  \n",
       "209033 2011-06-01 07:38:00 12.75000  15643.00000  United Kingdom    51.00000  \n",
       "...                    ...      ...          ...             ...         ...  \n",
       "320690 2011-08-31 17:16:00  2.55000  15856.00000  United Kingdom     5.10000  \n",
       "320691 2011-08-31 17:16:00  1.45000  15856.00000  United Kingdom     2.90000  \n",
       "320692 2011-08-31 17:16:00  0.85000  15856.00000  United Kingdom    40.80000  \n",
       "320694 2011-08-31 17:18:00  0.00000          NaN  United Kingdom     0.00000  \n",
       "320699 2011-08-31 17:30:00  1.65000          NaN  United Kingdom     1.65000  \n",
       "\n",
       "[98286 rows x 9 columns]"
      ]
     },
     "execution_count": 203,
     "metadata": {},
     "output_type": "execute_result"
    }
   ],
   "source": [
    "real_df = df[(df['InvoiceDate'] >= dt.datetime(2011, 6, 1)) & (df['InvoiceDate'] < dt.datetime(2011, 9, 1)) ]\n",
    "real_df"
   ]
  },
  {
   "cell_type": "code",
   "execution_count": 228,
   "metadata": {},
   "outputs": [
    {
     "data": {
      "text/html": [
       "<div>\n",
       "<style scoped>\n",
       "    .dataframe tbody tr th:only-of-type {\n",
       "        vertical-align: middle;\n",
       "    }\n",
       "\n",
       "    .dataframe tbody tr th {\n",
       "        vertical-align: top;\n",
       "    }\n",
       "\n",
       "    .dataframe thead th {\n",
       "        text-align: right;\n",
       "    }\n",
       "</style>\n",
       "<table border=\"1\" class=\"dataframe\">\n",
       "  <thead>\n",
       "    <tr style=\"text-align: right;\">\n",
       "      <th></th>\n",
       "      <th>Customer ID</th>\n",
       "      <th>real_freq</th>\n",
       "      <th>real_monetary</th>\n",
       "    </tr>\n",
       "  </thead>\n",
       "  <tbody>\n",
       "    <tr>\n",
       "      <th>0</th>\n",
       "      <td>12747.00000</td>\n",
       "      <td>2</td>\n",
       "      <td>678.00000</td>\n",
       "    </tr>\n",
       "    <tr>\n",
       "      <th>1</th>\n",
       "      <td>12748.00000</td>\n",
       "      <td>41</td>\n",
       "      <td>4017.77000</td>\n",
       "    </tr>\n",
       "  </tbody>\n",
       "</table>\n",
       "</div>"
      ],
      "text/plain": [
       "   Customer ID  real_freq  real_monetary\n",
       "0  12747.00000          2      678.00000\n",
       "1  12748.00000         41     4017.77000"
      ]
     },
     "execution_count": 228,
     "metadata": {},
     "output_type": "execute_result"
    }
   ],
   "source": [
    "rfm_value = real_df.groupby('Customer ID').agg({'Invoice': lambda num: num.nunique(),\n",
    "                                     'TotalPrice': lambda price: price.sum()})\n",
    "rfm_value.rename(columns={\"Invoice\": \"real_freq\", \"TotalPrice\" : \"real_monetary\"}, inplace=True)\n",
    "rfm_value.reset_index(level=0, inplace=True)\n",
    "rfm_value.head(2)"
   ]
  },
  {
   "cell_type": "code",
   "execution_count": 235,
   "metadata": {},
   "outputs": [
    {
     "data": {
      "text/plain": [
       "(1252, 1743)"
      ]
     },
     "execution_count": 235,
     "metadata": {},
     "output_type": "execute_result"
    }
   ],
   "source": [
    "len(predict_df), len(rfm_value)"
   ]
  },
  {
   "cell_type": "code",
   "execution_count": 243,
   "metadata": {},
   "outputs": [
    {
     "data": {
      "text/html": [
       "<div>\n",
       "<style scoped>\n",
       "    .dataframe tbody tr th:only-of-type {\n",
       "        vertical-align: middle;\n",
       "    }\n",
       "\n",
       "    .dataframe tbody tr th {\n",
       "        vertical-align: top;\n",
       "    }\n",
       "\n",
       "    .dataframe thead th {\n",
       "        text-align: right;\n",
       "    }\n",
       "</style>\n",
       "<table border=\"1\" class=\"dataframe\">\n",
       "  <thead>\n",
       "    <tr style=\"text-align: right;\">\n",
       "      <th></th>\n",
       "      <th>Customer ID</th>\n",
       "      <th>exp_freq</th>\n",
       "      <th>exp_cltv</th>\n",
       "      <th>real_freq</th>\n",
       "      <th>real_monetary</th>\n",
       "    </tr>\n",
       "  </thead>\n",
       "  <tbody>\n",
       "    <tr>\n",
       "      <th>0</th>\n",
       "      <td>12747.00000</td>\n",
       "      <td>2.72920</td>\n",
       "      <td>1041.66009</td>\n",
       "      <td>2.00000</td>\n",
       "      <td>678.00000</td>\n",
       "    </tr>\n",
       "    <tr>\n",
       "      <th>1</th>\n",
       "      <td>12748.00000</td>\n",
       "      <td>27.68437</td>\n",
       "      <td>3150.50282</td>\n",
       "      <td>41.00000</td>\n",
       "      <td>4017.77000</td>\n",
       "    </tr>\n",
       "    <tr>\n",
       "      <th>2</th>\n",
       "      <td>12823.00000</td>\n",
       "      <td>1.55136</td>\n",
       "      <td>580.73791</td>\n",
       "      <td>1.00000</td>\n",
       "      <td>229.50000</td>\n",
       "    </tr>\n",
       "    <tr>\n",
       "      <th>3</th>\n",
       "      <td>12826.00000</td>\n",
       "      <td>0.44599</td>\n",
       "      <td>117.30980</td>\n",
       "      <td>1.00000</td>\n",
       "      <td>121.52000</td>\n",
       "    </tr>\n",
       "    <tr>\n",
       "      <th>4</th>\n",
       "      <td>12829.00000</td>\n",
       "      <td>0.24505</td>\n",
       "      <td>42.20822</td>\n",
       "      <td>NaN</td>\n",
       "      <td>NaN</td>\n",
       "    </tr>\n",
       "    <tr>\n",
       "      <th>...</th>\n",
       "      <td>...</td>\n",
       "      <td>...</td>\n",
       "      <td>...</td>\n",
       "      <td>...</td>\n",
       "      <td>...</td>\n",
       "    </tr>\n",
       "    <tr>\n",
       "      <th>1247</th>\n",
       "      <td>18245.00000</td>\n",
       "      <td>2.16114</td>\n",
       "      <td>785.01085</td>\n",
       "      <td>2.00000</td>\n",
       "      <td>366.52000</td>\n",
       "    </tr>\n",
       "    <tr>\n",
       "      <th>1248</th>\n",
       "      <td>18257.00000</td>\n",
       "      <td>2.40340</td>\n",
       "      <td>653.37234</td>\n",
       "      <td>2.00000</td>\n",
       "      <td>841.67000</td>\n",
       "    </tr>\n",
       "    <tr>\n",
       "      <th>1249</th>\n",
       "      <td>18260.00000</td>\n",
       "      <td>2.48730</td>\n",
       "      <td>1213.96541</td>\n",
       "      <td>1.00000</td>\n",
       "      <td>427.13000</td>\n",
       "    </tr>\n",
       "    <tr>\n",
       "      <th>1250</th>\n",
       "      <td>18272.00000</td>\n",
       "      <td>2.29953</td>\n",
       "      <td>1311.47901</td>\n",
       "      <td>2.00000</td>\n",
       "      <td>1125.91000</td>\n",
       "    </tr>\n",
       "    <tr>\n",
       "      <th>1251</th>\n",
       "      <td>18283.00000</td>\n",
       "      <td>2.73226</td>\n",
       "      <td>323.60410</td>\n",
       "      <td>4.00000</td>\n",
       "      <td>450.72000</td>\n",
       "    </tr>\n",
       "  </tbody>\n",
       "</table>\n",
       "<p>1252 rows × 5 columns</p>\n",
       "</div>"
      ],
      "text/plain": [
       "      Customer ID  exp_freq   exp_cltv  real_freq  real_monetary\n",
       "0     12747.00000   2.72920 1041.66009    2.00000      678.00000\n",
       "1     12748.00000  27.68437 3150.50282   41.00000     4017.77000\n",
       "2     12823.00000   1.55136  580.73791    1.00000      229.50000\n",
       "3     12826.00000   0.44599  117.30980    1.00000      121.52000\n",
       "4     12829.00000   0.24505   42.20822        NaN            NaN\n",
       "...           ...       ...        ...        ...            ...\n",
       "1247  18245.00000   2.16114  785.01085    2.00000      366.52000\n",
       "1248  18257.00000   2.40340  653.37234    2.00000      841.67000\n",
       "1249  18260.00000   2.48730 1213.96541    1.00000      427.13000\n",
       "1250  18272.00000   2.29953 1311.47901    2.00000     1125.91000\n",
       "1251  18283.00000   2.73226  323.60410    4.00000      450.72000\n",
       "\n",
       "[1252 rows x 5 columns]"
      ]
     },
     "execution_count": 243,
     "metadata": {},
     "output_type": "execute_result"
    }
   ],
   "source": [
    "result = pd.merge(predict_df, rfm_value, how='left', on='Customer ID')\n",
    "result"
   ]
  },
  {
   "cell_type": "code",
   "execution_count": 244,
   "metadata": {},
   "outputs": [
    {
     "data": {
      "text/plain": [
       "Customer ID        0\n",
       "exp_freq           0\n",
       "exp_cltv           0\n",
       "real_freq        407\n",
       "real_monetary    407\n",
       "dtype: int64"
      ]
     },
     "execution_count": 244,
     "metadata": {},
     "output_type": "execute_result"
    }
   ],
   "source": [
    "result.isna().sum()"
   ]
  },
  {
   "cell_type": "code",
   "execution_count": 246,
   "metadata": {},
   "outputs": [
    {
     "data": {
      "text/plain": [
       "Customer ID      0\n",
       "exp_freq         0\n",
       "exp_cltv         0\n",
       "real_freq        0\n",
       "real_monetary    0\n",
       "dtype: int64"
      ]
     },
     "execution_count": 246,
     "metadata": {},
     "output_type": "execute_result"
    }
   ],
   "source": [
    "result.fillna(0, inplace=True)\n",
    "result.isna().sum()"
   ]
  },
  {
   "cell_type": "code",
   "execution_count": 247,
   "metadata": {},
   "outputs": [],
   "source": [
    "from sklearn import metrics\n",
    "import math"
   ]
  },
  {
   "cell_type": "code",
   "execution_count": 255,
   "metadata": {},
   "outputs": [
    {
     "data": {
      "text/plain": [
       "1.8699457201161431"
      ]
     },
     "execution_count": 255,
     "metadata": {},
     "output_type": "execute_result"
    }
   ],
   "source": [
    "# RMSE\n",
    "metrics.mean_squared_error(result['real_freq'], result['exp_freq'])**0.5"
   ]
  },
  {
   "cell_type": "code",
   "execution_count": 257,
   "metadata": {},
   "outputs": [
    {
     "data": {
      "text/plain": [
       "1690.6524071148044"
      ]
     },
     "execution_count": 257,
     "metadata": {},
     "output_type": "execute_result"
    }
   ],
   "source": [
    "# RMSE\n",
    "metrics.mean_squared_error(result['real_monetary'], result['exp_cltv'])**0.5"
   ]
  },
  {
   "cell_type": "code",
   "execution_count": 259,
   "metadata": {},
   "outputs": [
    {
     "data": {
      "text/html": [
       "<div>\n",
       "<style scoped>\n",
       "    .dataframe tbody tr th:only-of-type {\n",
       "        vertical-align: middle;\n",
       "    }\n",
       "\n",
       "    .dataframe tbody tr th {\n",
       "        vertical-align: top;\n",
       "    }\n",
       "\n",
       "    .dataframe thead th {\n",
       "        text-align: right;\n",
       "    }\n",
       "</style>\n",
       "<table border=\"1\" class=\"dataframe\">\n",
       "  <thead>\n",
       "    <tr style=\"text-align: right;\">\n",
       "      <th></th>\n",
       "      <th>Customer ID</th>\n",
       "      <th>exp_freq</th>\n",
       "      <th>exp_cltv</th>\n",
       "      <th>real_freq</th>\n",
       "      <th>real_monetary</th>\n",
       "      <th>gap_freq</th>\n",
       "      <th>gap_cltv</th>\n",
       "    </tr>\n",
       "  </thead>\n",
       "  <tbody>\n",
       "    <tr>\n",
       "      <th>0</th>\n",
       "      <td>12747.00000</td>\n",
       "      <td>2.72920</td>\n",
       "      <td>1041.66009</td>\n",
       "      <td>2.00000</td>\n",
       "      <td>678.00000</td>\n",
       "      <td>0.72920</td>\n",
       "      <td>363.66009</td>\n",
       "    </tr>\n",
       "    <tr>\n",
       "      <th>1</th>\n",
       "      <td>12748.00000</td>\n",
       "      <td>27.68437</td>\n",
       "      <td>3150.50282</td>\n",
       "      <td>41.00000</td>\n",
       "      <td>4017.77000</td>\n",
       "      <td>-13.31563</td>\n",
       "      <td>-867.26718</td>\n",
       "    </tr>\n",
       "    <tr>\n",
       "      <th>2</th>\n",
       "      <td>12823.00000</td>\n",
       "      <td>1.55136</td>\n",
       "      <td>580.73791</td>\n",
       "      <td>1.00000</td>\n",
       "      <td>229.50000</td>\n",
       "      <td>0.55136</td>\n",
       "      <td>351.23791</td>\n",
       "    </tr>\n",
       "    <tr>\n",
       "      <th>3</th>\n",
       "      <td>12826.00000</td>\n",
       "      <td>0.44599</td>\n",
       "      <td>117.30980</td>\n",
       "      <td>1.00000</td>\n",
       "      <td>121.52000</td>\n",
       "      <td>-0.55401</td>\n",
       "      <td>-4.21020</td>\n",
       "    </tr>\n",
       "    <tr>\n",
       "      <th>4</th>\n",
       "      <td>12829.00000</td>\n",
       "      <td>0.24505</td>\n",
       "      <td>42.20822</td>\n",
       "      <td>0.00000</td>\n",
       "      <td>0.00000</td>\n",
       "      <td>0.24505</td>\n",
       "      <td>42.20822</td>\n",
       "    </tr>\n",
       "  </tbody>\n",
       "</table>\n",
       "</div>"
      ],
      "text/plain": [
       "   Customer ID  exp_freq   exp_cltv  real_freq  real_monetary  gap_freq  \\\n",
       "0  12747.00000   2.72920 1041.66009    2.00000      678.00000   0.72920   \n",
       "1  12748.00000  27.68437 3150.50282   41.00000     4017.77000 -13.31563   \n",
       "2  12823.00000   1.55136  580.73791    1.00000      229.50000   0.55136   \n",
       "3  12826.00000   0.44599  117.30980    1.00000      121.52000  -0.55401   \n",
       "4  12829.00000   0.24505   42.20822    0.00000        0.00000   0.24505   \n",
       "\n",
       "    gap_cltv  \n",
       "0  363.66009  \n",
       "1 -867.26718  \n",
       "2  351.23791  \n",
       "3   -4.21020  \n",
       "4   42.20822  "
      ]
     },
     "execution_count": 259,
     "metadata": {},
     "output_type": "execute_result"
    }
   ],
   "source": [
    "result['gap_freq'] = result['exp_freq'] - result['real_freq']\n",
    "result['gap_cltv'] = result['exp_cltv'] - result['real_monetary']\n",
    "result.head(5)"
   ]
  },
  {
   "cell_type": "code",
   "execution_count": 262,
   "metadata": {},
   "outputs": [
    {
     "data": {
      "text/plain": [
       "188.25405438392238"
      ]
     },
     "execution_count": 262,
     "metadata": {},
     "output_type": "execute_result"
    }
   ],
   "source": [
    "result.gap_cltv.mean()"
   ]
  },
  {
   "cell_type": "markdown",
   "metadata": {},
   "source": [
    "- 예측은 됐지만 실제로 사지 않은 사람의 수\n",
    "- 9개월 훈련 - 3개월 예측, 1개월 예측"
   ]
  },
  {
   "cell_type": "code",
   "execution_count": null,
   "metadata": {},
   "outputs": [],
   "source": []
  },
  {
   "cell_type": "code",
   "execution_count": null,
   "metadata": {},
   "outputs": [],
   "source": []
  },
  {
   "cell_type": "code",
   "execution_count": null,
   "metadata": {},
   "outputs": [],
   "source": []
  }
 ],
 "metadata": {
  "kernelspec": {
   "display_name": "Python 3",
   "language": "python",
   "name": "python3"
  },
  "language_info": {
   "codemirror_mode": {
    "name": "ipython",
    "version": 3
   },
   "file_extension": ".py",
   "mimetype": "text/x-python",
   "name": "python",
   "nbconvert_exporter": "python",
   "pygments_lexer": "ipython3",
   "version": "3.9.7"
  },
  "toc": {
   "base_numbering": 1,
   "nav_menu": {},
   "number_sections": true,
   "sideBar": true,
   "skip_h1_title": false,
   "title_cell": "Table of Contents",
   "title_sidebar": "Contents",
   "toc_cell": false,
   "toc_position": {},
   "toc_section_display": true,
   "toc_window_display": false
  }
 },
 "nbformat": 4,
 "nbformat_minor": 2
}
